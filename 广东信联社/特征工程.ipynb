{
 "cells": [
  {
   "cell_type": "code",
   "execution_count": 1,
   "metadata": {},
   "outputs": [],
   "source": [
    "import pandas as pd\n",
    "import numpy as np\n",
    "import seaborn as sns\n",
    "import matplotlib.pyplot as plt\n",
    "import seaborn as sns\n",
    "import toad\n",
    "plt.rcParams['font.sans-serif'] = ['SimHei']  # 中文字体设置-黑体\n",
    "plt.rcParams['axes.unicode_minus'] = False  # 解决保存图像是负号'-'显示为方块的问题\n",
    "sns.set(font='SimHei')  # 解决Seaborn中文显示问题"
   ]
  },
  {
   "cell_type": "markdown",
   "metadata": {},
   "source": [
    "# 加载训练集和测试集，合并一起处理"
   ]
  },
  {
   "cell_type": "code",
   "execution_count": 2,
   "metadata": {},
   "outputs": [],
   "source": [
    "train = pd.read_csv(\"./train.csv\")\n",
    "test = pd.read_csv(\"./test.csv\")\n",
    "df = pd.concat([train,test],axis=0,ignore_index=True)\n",
    "df.head(),df.shape\n",
    "idx = train.index"
   ]
  },
  {
   "cell_type": "markdown",
   "metadata": {},
   "source": [
    "# 分组处理特征"
   ]
  },
  {
   "cell_type": "markdown",
   "metadata": {},
   "source": [
    "## 客户基础属性"
   ]
  },
  {
   "cell_type": "markdown",
   "metadata": {},
   "source": [
    "### 填充sex，marriage_satatus，occupation，educate属性同时为空的行，填充值为0"
   ]
  },
  {
   "cell_type": "code",
   "execution_count": 3,
   "metadata": {},
   "outputs": [],
   "source": [
    "df1_2 = df.copy()\n",
    "df1_2_1 = df1_2[df1_2['sex'].isnull() & df1_2['marriage_satatus'].isnull() & df1_2['occupation'].isnull() & df1_2['educate'].isnull()]\n",
    "df1_2.loc[df1_2_1.index,'sex':'educate'] = df1_2.loc[df1_2_1.index,'sex':'educate'].fillna(0)"
   ]
  },
  {
   "cell_type": "markdown",
   "metadata": {},
   "source": [
    "### sex特征的异常值用0替代 "
   ]
  },
  {
   "cell_type": "code",
   "execution_count": 4,
   "metadata": {},
   "outputs": [],
   "source": [
    "df2 = df1_2.copy()\n",
    "for i in df2[(df2['sex'] < 0) | (df2['sex']>2)].index:\n",
    "    df2.loc[i,'sex']= 0"
   ]
  },
  {
   "cell_type": "markdown",
   "metadata": {},
   "source": [
    "### marriage_satatus特征异常值3，4，5，6，7全部设为0"
   ]
  },
  {
   "cell_type": "code",
   "execution_count": 5,
   "metadata": {},
   "outputs": [],
   "source": [
    "df2_3 = df2.copy()\n",
    "idx1= df2_3[(df2_3['marriage_satatus'] > 2) & (df2_3['marriage_satatus'] <8)].index\n",
    "df2_3.loc[idx1,'marriage_satatus']= 0"
   ]
  },
  {
   "cell_type": "markdown",
   "metadata": {},
   "source": [
    "### age特征不分箱，只将小于0和大于100设为-1"
   ]
  },
  {
   "cell_type": "code",
   "execution_count": 6,
   "metadata": {},
   "outputs": [],
   "source": [
    "df3_2 = df2_3.copy()\n",
    "idx2 = df3_2[(df3_2['age'] < 0) | (df3_2['age'] >100)].index\n",
    "df3_2.loc[idx2,'age']=0"
   ]
  },
  {
   "cell_type": "markdown",
   "metadata": {},
   "source": [
    "### occupation特征与educate特征同时为空的客户填充为0，剩下的用众数填充"
   ]
  },
  {
   "cell_type": "code",
   "execution_count": 7,
   "metadata": {},
   "outputs": [],
   "source": [
    "df4_1 = df3_2.copy()\n",
    "df4_1_1 = df4_1[df4_1['occupation'].isnull() & df4_1['educate'].isnull()]\n",
    "df4_1['occupation'] = df4_1['occupation'].fillna(df4_1['occupation'].mode()[0])"
   ]
  },
  {
   "cell_type": "markdown",
   "metadata": {},
   "source": [
    "### educate特征缺失值用0填充"
   ]
  },
  {
   "cell_type": "code",
   "execution_count": 8,
   "metadata": {
    "scrolled": true
   },
   "outputs": [
    {
     "name": "stdout",
     "output_type": "stream",
     "text": [
      "                         iv  gini  entropy    unique\n",
      "cust_id           24.797253   NaN      NaN  784000.0\n",
      "occupation         0.881688   NaN      NaN      88.0\n",
      "age                0.774163   NaN      NaN     101.0\n",
      "marriage_satatus   0.395075   NaN      NaN       5.0\n",
      "educate            0.173398   NaN      NaN      11.0\n",
      "sex                0.089331   NaN      NaN       3.0\n"
     ]
    },
    {
     "data": {
      "text/plain": [
       "cust_id                  0\n",
       "flag                340043\n",
       "sex                      0\n",
       "marriage_satatus         0\n",
       "age                      0\n",
       "occupation               0\n",
       "educate                  0\n",
       "dtype: int64"
      ]
     },
     "execution_count": 8,
     "metadata": {},
     "output_type": "execute_result"
    }
   ],
   "source": [
    "df5_1 = df4_1.copy()\n",
    "df5_1['educate'] = df5_1['educate'].fillna(0)\n",
    "\n",
    "iv_info1 = toad.quality(df5_1.iloc[idx,:7],'flag', iv_only=True)\n",
    "print(iv_info1)\n",
    "\n",
    "df5_1.iloc[:,:7].isnull().sum()"
   ]
  },
  {
   "cell_type": "markdown",
   "metadata": {},
   "source": [
    "## 账户数量:'acctage','covaccvnumvm'"
   ]
  },
  {
   "cell_type": "markdown",
   "metadata": {},
   "source": [
    "### 'acctage'和'covaccvnumvm'缺失值用-2填充"
   ]
  },
  {
   "cell_type": "code",
   "execution_count": 9,
   "metadata": {},
   "outputs": [],
   "source": [
    "Num_accounts = train.columns[7:14].tolist()\n",
    "Num_accounts_idx_flag = pd.Index(['flag'] +train.columns[7:14].tolist())\n",
    "df6 = df5_1.copy()\n",
    "for i in train.columns[7:14]:\n",
    "    df6[i] = df6[i].fillna(-2)"
   ]
  },
  {
   "cell_type": "code",
   "execution_count": 10,
   "metadata": {
    "scrolled": true
   },
   "outputs": [
    {
     "name": "stdout",
     "output_type": "stream",
     "text": [
      "                        iv  gini  entropy  unique\n",
      "covaccvnumvm0024  2.778237   NaN      NaN   172.0\n",
      "covaccvnumvm0012  2.743324   NaN      NaN   138.0\n",
      "covaccvnumvm0006  2.702905   NaN      NaN   117.0\n",
      "covaccvnumvm0003  2.670323   NaN      NaN   107.0\n",
      "covaccvnumvm0002  2.653367   NaN      NaN   109.0\n",
      "covaccvnumvm0001  2.635448   NaN      NaN   103.0\n",
      "acctage           0.537352   NaN      NaN   615.0\n"
     ]
    }
   ],
   "source": [
    "iv_info2 = toad.quality(df6.loc[idx,Num_accounts_idx_flag],'flag', iv_only=True)\n",
    "print(iv_info2)"
   ]
  },
  {
   "cell_type": "markdown",
   "metadata": {},
   "source": [
    "### 'covaccvnumvm'特征只保留IV值最大的一个"
   ]
  },
  {
   "cell_type": "code",
   "execution_count": 11,
   "metadata": {},
   "outputs": [
    {
     "data": {
      "text/plain": [
       "5"
      ]
     },
     "execution_count": 11,
     "metadata": {},
     "output_type": "execute_result"
    }
   ],
   "source": [
    "drop_list = Num_accounts\n",
    "drop_list.remove('covaccvnumvm0024')\n",
    "drop_list.remove('acctage')\n",
    "len(drop_list)"
   ]
  },
  {
   "cell_type": "markdown",
   "metadata": {},
   "source": [
    "## 账户交易情况"
   ]
  },
  {
   "cell_type": "markdown",
   "metadata": {},
   "source": [
    "### cfvfdpvnumvm,先用-1填充，再保留IV值最大的特征"
   ]
  },
  {
   "cell_type": "markdown",
   "metadata": {},
   "source": [
    "### cfvdctrdamovm0001-0012,cfvdctrdvnumvm0001-0012,cfvcctrdamovm0001-0012,cfvcctrdvnumvm0001-0012，每组保留IV值最大的特征"
   ]
  },
  {
   "cell_type": "code",
   "execution_count": 12,
   "metadata": {},
   "outputs": [],
   "source": [
    "df7 = df6.copy()\n",
    "Account_transactions = train.columns[14:35].tolist()\n",
    "train1 = train[Account_transactions]\n",
    "col3 = (train1.shape[0]-train1.count())/train1.shape[0]#缺失率\n",
    "Account_transactions_idx1 = col3[col3>0.8].index\n",
    "Account_transactions_idx2 = col3[col3<0.8].index\n",
    "Account_transactions1 = Account_transactions_idx1.tolist()\n",
    "Account_transactions2 = Account_transactions_idx2.tolist()"
   ]
  },
  {
   "cell_type": "code",
   "execution_count": 13,
   "metadata": {
    "scrolled": false
   },
   "outputs": [
    {
     "name": "stdout",
     "output_type": "stream",
     "text": [
      "                        iv  gini  entropy  unique\n",
      "cfvfdpvnumvm0012  5.512248   NaN      NaN   125.0\n",
      "cfvfdpvnumvm0006  5.509688   NaN      NaN    88.0\n",
      "cfvfdpvnumvm0003  5.508722   NaN      NaN    59.0\n",
      "cfvfdpvnumvm0001  5.508182   NaN      NaN    33.0\n",
      "cfvfdpvnumvm0002  5.507965   NaN      NaN    47.0\n"
     ]
    }
   ],
   "source": [
    "df7[Account_transactions] = df7[Account_transactions].fillna(-1)\n",
    "Account_transactions_idx1_flag = pd.Index(Account_transactions_idx1.tolist() + ['flag'])\n",
    "iv_info4 = toad.quality(df7.loc[idx,Account_transactions_idx1_flag],'flag', iv_only=True)\n",
    "print(iv_info4)"
   ]
  },
  {
   "cell_type": "code",
   "execution_count": 14,
   "metadata": {},
   "outputs": [],
   "source": [
    "Account_transactions1_remove = Account_transactions1\n",
    "Account_transactions1_remove.remove('cfvfdpvnumvm0012')"
   ]
  },
  {
   "cell_type": "code",
   "execution_count": 15,
   "metadata": {},
   "outputs": [],
   "source": [
    "Account_transactions2.remove('cfvcctrdamovm0012')\n",
    "Account_transactions2.remove('cfvdctrdamovm0012')\n",
    "Account_transactions2.remove('cfvcctrdvnumvm0006')\n",
    "Account_transactions2.remove('cfvdctrdvnumvm0012')"
   ]
  },
  {
   "cell_type": "code",
   "execution_count": 16,
   "metadata": {
    "scrolled": true
   },
   "outputs": [
    {
     "data": {
      "text/plain": [
       "21"
      ]
     },
     "execution_count": 16,
     "metadata": {},
     "output_type": "execute_result"
    }
   ],
   "source": [
    "drop_list = drop_list + Account_transactions1_remove + Account_transactions2\n",
    "len(drop_list)"
   ]
  },
  {
   "cell_type": "code",
   "execution_count": 18,
   "metadata": {},
   "outputs": [
    {
     "data": {
      "text/plain": [
       "(1124043, 339)"
      ]
     },
     "execution_count": 18,
     "metadata": {},
     "output_type": "execute_result"
    }
   ],
   "source": [
    "df7.shape"
   ]
  },
  {
   "cell_type": "markdown",
   "metadata": {},
   "source": [
    "## 资产情况:'covassvhypvm','covassbalvmaxvm','covasshypvst2vm'"
   ]
  },
  {
   "cell_type": "markdown",
   "metadata": {},
   "source": [
    "### 'covassvhypvm'和'covassbalvmaxvm'先用-1填充，再保留IV值最大的特征"
   ]
  },
  {
   "cell_type": "code",
   "execution_count": 17,
   "metadata": {},
   "outputs": [],
   "source": [
    "df8 = df7.copy()\n",
    "Assets_idx = train.columns[35:48]\n",
    "Assets_idx1 = Assets_idx[:10]#'covassvhypvm'和'covassbalvmaxvm'的索引\n",
    "df8[Assets_idx]=df8[Assets_idx].fillna(-1)"
   ]
  },
  {
   "cell_type": "code",
   "execution_count": 18,
   "metadata": {},
   "outputs": [
    {
     "name": "stdout",
     "output_type": "stream",
     "text": [
      "                           iv  gini  entropy    unique\n",
      "covassbalvmaxvm0001  5.284373   NaN      NaN  282047.0\n",
      "covassbalvmaxvm0002  5.273959   NaN      NaN  288693.0\n",
      "covassbalvmaxvm0003  5.273780   NaN      NaN  293013.0\n",
      "covassvhypvm0001     5.248523   NaN      NaN  350873.0\n",
      "covassbalvmaxvm0006  5.244686   NaN      NaN  302233.0\n",
      "covassvhypvm0002     5.229474   NaN      NaN  361086.0\n",
      "covassvhypvm0003     5.209058   NaN      NaN  369721.0\n",
      "covassbalvmaxvm0012  5.190056   NaN      NaN  315034.0\n",
      "covassvhypvm0006     5.176056   NaN      NaN  382413.0\n",
      "covassvhypvm0012     5.131218   NaN      NaN  394783.0\n"
     ]
    }
   ],
   "source": [
    "Assets_idx1_flag = pd.Index(Assets_idx1.tolist() + ['flag'])\n",
    "iv_info5 = toad.quality(df8.loc[idx,Assets_idx1_flag],'flag', iv_only=True)\n",
    "print(iv_info5)"
   ]
  },
  {
   "cell_type": "code",
   "execution_count": 19,
   "metadata": {},
   "outputs": [],
   "source": [
    "Assets_idx1_remove = Assets_idx1.tolist()\n",
    "Assets_idx1_remove.remove('covassbalvmaxvm0001')\n",
    "Assets_idx1_remove.remove('covassvhypvm0001')"
   ]
  },
  {
   "cell_type": "markdown",
   "metadata": {},
   "source": [
    "### covasshypvst2vmst2vm用-1填充，并保留"
   ]
  },
  {
   "cell_type": "code",
   "execution_count": 20,
   "metadata": {},
   "outputs": [
    {
     "data": {
      "text/plain": [
       "29"
      ]
     },
     "execution_count": 20,
     "metadata": {},
     "output_type": "execute_result"
    }
   ],
   "source": [
    "drop_list = drop_list + Assets_idx1_remove\n",
    "len(drop_list)"
   ]
  },
  {
   "cell_type": "markdown",
   "metadata": {},
   "source": [
    "## 贷款情况:cfvapplsuctimvm cfvreplreftimvm covreplsucmaxvm cfvalloantimvm"
   ]
  },
  {
   "cell_type": "markdown",
   "metadata": {},
   "source": [
    "### 缺失率过大，全部丢弃"
   ]
  },
  {
   "cell_type": "code",
   "execution_count": 21,
   "metadata": {
    "scrolled": false
   },
   "outputs": [
    {
     "data": {
      "text/plain": [
       "39"
      ]
     },
     "execution_count": 21,
     "metadata": {},
     "output_type": "execute_result"
    }
   ],
   "source": [
    "Loan_idx = train.columns[48:58]\n",
    "drop_list = drop_list + Loan_idx.tolist()\n",
    "len(drop_list)"
   ]
  },
  {
   "cell_type": "markdown",
   "metadata": {},
   "source": [
    "## 渠道交易1"
   ]
  },
  {
   "cell_type": "markdown",
   "metadata": {},
   "source": [
    "### 保留没有缺失值的特征,再丢掉其中相关性大的特征"
   ]
  },
  {
   "cell_type": "code",
   "execution_count": 22,
   "metadata": {
    "scrolled": false
   },
   "outputs": [],
   "source": [
    "Channel_transaction_idx = train.columns[58:166]"
   ]
  },
  {
   "cell_type": "code",
   "execution_count": 23,
   "metadata": {},
   "outputs": [],
   "source": [
    "df8_1 = df8[Channel_transaction_idx]\n",
    "col3 = (df8_1.shape[0]-df8_1.count())/df8_1.shape[0]\n",
    "Channel_transaction_idx1 = col3[col3>0.7].index\n",
    "Channel_transaction_idx2 = col3[col3<=0.7].index"
   ]
  },
  {
   "cell_type": "code",
   "execution_count": 24,
   "metadata": {},
   "outputs": [],
   "source": [
    "df8[Channel_transaction_idx]=df8[Channel_transaction_idx].fillna(-1)"
   ]
  },
  {
   "cell_type": "code",
   "execution_count": 25,
   "metadata": {},
   "outputs": [],
   "source": [
    "Channel_transaction2_remove = Channel_transaction_idx2.tolist()"
   ]
  },
  {
   "cell_type": "code",
   "execution_count": 26,
   "metadata": {},
   "outputs": [],
   "source": [
    "Channel_transaction2_retain = ['cbvartavgvamovm0001','cbvartavgvnumvm0001','cbvartavgvnumvm0002',\n",
    "                               'cbvartavgvnumvm0003','cbvartavgvnumvm0006','cbvartbhevamovm0003',\n",
    "                               'cbvartbhevamovm0006','cbvartbhevamovm0012','cbvartbhevamovm0024',\n",
    "                               'cbvartbhevnumvm0024','cbvartnumvst2vm0024','cbvartamovst2vm0024']"
   ]
  },
  {
   "cell_type": "code",
   "execution_count": 27,
   "metadata": {},
   "outputs": [
    {
     "data": {
      "text/plain": [
       "28"
      ]
     },
     "execution_count": 27,
     "metadata": {},
     "output_type": "execute_result"
    }
   ],
   "source": [
    "for i in Channel_transaction2_retain:\n",
    "    Channel_transaction2_remove.remove(i)\n",
    "len(Channel_transaction2_remove)"
   ]
  },
  {
   "cell_type": "code",
   "execution_count": 28,
   "metadata": {},
   "outputs": [
    {
     "data": {
      "text/plain": [
       "135"
      ]
     },
     "execution_count": 28,
     "metadata": {},
     "output_type": "execute_result"
    }
   ],
   "source": [
    "drop_list = drop_list + Channel_transaction_idx1.tolist() + Channel_transaction2_remove\n",
    "len(drop_list)"
   ]
  },
  {
   "cell_type": "markdown",
   "metadata": {},
   "source": [
    "## 渠道交易2"
   ]
  },
  {
   "cell_type": "markdown",
   "metadata": {},
   "source": [
    "### 缺失率过大，全部丢弃"
   ]
  },
  {
   "cell_type": "code",
   "execution_count": 29,
   "metadata": {},
   "outputs": [
    {
     "data": {
      "text/plain": [
       "151"
      ]
     },
     "execution_count": 29,
     "metadata": {},
     "output_type": "execute_result"
    }
   ],
   "source": [
    "Channel_transaction2_idx = train.columns[314:330]\n",
    "drop_list = drop_list + Channel_transaction2_idx.tolist()\n",
    "len(drop_list)"
   ]
  },
  {
   "cell_type": "markdown",
   "metadata": {},
   "source": [
    "## 渠道行为"
   ]
  },
  {
   "cell_type": "markdown",
   "metadata": {},
   "source": [
    "### 保留其中IV值最高的一个特征"
   ]
  },
  {
   "cell_type": "code",
   "execution_count": 30,
   "metadata": {},
   "outputs": [],
   "source": [
    "Channel_behavior_idx = train.columns[166:178]"
   ]
  },
  {
   "cell_type": "code",
   "execution_count": 31,
   "metadata": {},
   "outputs": [],
   "source": [
    "df8[Channel_behavior_idx]=df8[Channel_behavior_idx].fillna(-1)"
   ]
  },
  {
   "cell_type": "code",
   "execution_count": 32,
   "metadata": {},
   "outputs": [],
   "source": [
    "Channel_behavior_remove = Channel_behavior_idx.tolist()\n",
    "Channel_behavior_remove.remove('cbvmobblogvnumvm0012')"
   ]
  },
  {
   "cell_type": "code",
   "execution_count": 33,
   "metadata": {},
   "outputs": [
    {
     "data": {
      "text/plain": [
       "162"
      ]
     },
     "execution_count": 33,
     "metadata": {},
     "output_type": "execute_result"
    }
   ],
   "source": [
    "drop_list = drop_list + Channel_behavior_remove\n",
    "len(drop_list)"
   ]
  },
  {
   "cell_type": "markdown",
   "metadata": {},
   "source": [
    "## 第三方交易:cbvalibhedctnumvm、cbvweccctavgamovm"
   ]
  },
  {
   "cell_type": "markdown",
   "metadata": {},
   "source": [
    "### 缺失率过大，全部丢弃"
   ]
  },
  {
   "cell_type": "code",
   "execution_count": 34,
   "metadata": {},
   "outputs": [
    {
     "data": {
      "text/plain": [
       "266"
      ]
     },
     "execution_count": 34,
     "metadata": {},
     "output_type": "execute_result"
    }
   ],
   "source": [
    "Third_party_transactions_idx = train.columns[178:282]\n",
    "drop_list = drop_list + Third_party_transactions_idx.tolist()\n",
    "len(drop_list)"
   ]
  },
  {
   "cell_type": "markdown",
   "metadata": {},
   "source": [
    "## 自助设备交易 cbvatmdepvamovm、cbvatmtrnivnumvm"
   ]
  },
  {
   "cell_type": "markdown",
   "metadata": {},
   "source": [
    "### 缺失率过大，全部丢弃"
   ]
  },
  {
   "cell_type": "code",
   "execution_count": 35,
   "metadata": {},
   "outputs": [
    {
     "data": {
      "text/plain": [
       "298"
      ]
     },
     "execution_count": 35,
     "metadata": {},
     "output_type": "execute_result"
    }
   ],
   "source": [
    "Self_service_transaction_idx = train.columns[282:314]\n",
    "drop_list = drop_list + Self_service_transaction_idx.tolist()\n",
    "len(drop_list)"
   ]
  },
  {
   "cell_type": "markdown",
   "metadata": {},
   "source": [
    "## 其他标识"
   ]
  },
  {
   "cell_type": "markdown",
   "metadata": {},
   "source": [
    "### settime"
   ]
  },
  {
   "cell_type": "code",
   "execution_count": 36,
   "metadata": {},
   "outputs": [],
   "source": [
    "df9 = df8.copy()\n",
    "df9['settime'] = df9['settime'].astype('str')\n",
    "df9['settime_month'] = df9['settime'].apply(lambda x: x[4:6])\n",
    "df9['settime_month'] = df9['settime_month'].astype('int')"
   ]
  },
  {
   "cell_type": "code",
   "execution_count": 37,
   "metadata": {},
   "outputs": [
    {
     "data": {
      "text/plain": [
       "307"
      ]
     },
     "execution_count": 37,
     "metadata": {},
     "output_type": "execute_result"
    }
   ],
   "source": [
    "drop_list = drop_list + ['online_loans_flag', 'cbvwebloandamovm0006', \n",
    "                         'credit_card_flag','cbvcreditcardamovm0006', \n",
    "                         'pre_list_glag', 'apply_flag', 'aprv_status','merchant_falg','settime']\n",
    "len(drop_list)"
   ]
  },
  {
   "cell_type": "code",
   "execution_count": 38,
   "metadata": {},
   "outputs": [],
   "source": [
    "df9.drop(drop_list,axis  = 1,inplace = True)"
   ]
  },
  {
   "cell_type": "code",
   "execution_count": 39,
   "metadata": {},
   "outputs": [
    {
     "data": {
      "text/plain": [
       "(1124043, 33)"
      ]
     },
     "execution_count": 39,
     "metadata": {},
     "output_type": "execute_result"
    }
   ],
   "source": [
    "df9.shape"
   ]
  },
  {
   "cell_type": "markdown",
   "metadata": {},
   "source": [
    "# 特征衍生"
   ]
  },
  {
   "cell_type": "markdown",
   "metadata": {},
   "source": [
    "## 组内特征交叉"
   ]
  },
  {
   "cell_type": "markdown",
   "metadata": {},
   "source": [
    "### 账户数量(时间差分与时间平均)"
   ]
  },
  {
   "cell_type": "code",
   "execution_count": 40,
   "metadata": {},
   "outputs": [],
   "source": [
    "data1_1_diff1,data1_1_diff2,data1_1_diff3 = df['covaccvnumvm0024']-df['covaccvnumvm0001'],df['covaccvnumvm0012']-df['covaccvnumvm0001'],df['covaccvnumvm0006']-df['covaccvnumvm0001']"
   ]
  },
  {
   "cell_type": "code",
   "execution_count": 41,
   "metadata": {},
   "outputs": [],
   "source": [
    "data1_1_diff = pd.concat([data1_1_diff1,data1_1_diff2,data1_1_diff3],axis=1)"
   ]
  },
  {
   "cell_type": "code",
   "execution_count": 42,
   "metadata": {},
   "outputs": [],
   "source": [
    "data1_1_diff.columns=['covaccvnumvm24_01','covaccvnumvm12_01','covaccvnumvm06_01']"
   ]
  },
  {
   "cell_type": "code",
   "execution_count": 43,
   "metadata": {},
   "outputs": [],
   "source": [
    "data1_1_diff['covaccvnumvm_avg'] = df.eval('(covaccvnumvm0024+covaccvnumvm0012+covaccvnumvm0006+covaccvnumvm0003+covaccvnumvm0002+covaccvnumvm0001)/6')"
   ]
  },
  {
   "cell_type": "code",
   "execution_count": 44,
   "metadata": {},
   "outputs": [],
   "source": [
    "data1_1_diff['covaccvnumvm0024_avg'] = df['covaccvnumvm0024']- data1_1_diff['covaccvnumvm_avg']"
   ]
  },
  {
   "cell_type": "code",
   "execution_count": 45,
   "metadata": {},
   "outputs": [],
   "source": [
    "data1_1_diff['covaccvnumvm0024_acctage'] = df['covaccvnumvm0024']- df['acctage']"
   ]
  },
  {
   "cell_type": "code",
   "execution_count": 46,
   "metadata": {},
   "outputs": [],
   "source": [
    "data1_1_diff = data1_1_diff.fillna(-1)"
   ]
  },
  {
   "cell_type": "markdown",
   "metadata": {},
   "source": [
    "### 账户交易情况(时间差分，时间平均，数量平均)"
   ]
  },
  {
   "cell_type": "code",
   "execution_count": 47,
   "metadata": {},
   "outputs": [],
   "source": [
    "data2_1_diff = df['cfvfdpvnumvm0012'] - df['cfvfdpvnumvm0001']"
   ]
  },
  {
   "cell_type": "code",
   "execution_count": 48,
   "metadata": {},
   "outputs": [],
   "source": [
    "data2_2_diff = df['cfvcctrdamovm0012'] - df['cfvcctrdamovm0001']"
   ]
  },
  {
   "cell_type": "code",
   "execution_count": 49,
   "metadata": {},
   "outputs": [],
   "source": [
    "data2_3_diff = df['cfvdctrdamovm0012'] - df['cfvdctrdamovm0001']"
   ]
  },
  {
   "cell_type": "code",
   "execution_count": 50,
   "metadata": {},
   "outputs": [],
   "source": [
    "data2_4_diff = df['cfvcctrdvnumvm0012'] - df['cfvcctrdvnumvm0001']"
   ]
  },
  {
   "cell_type": "code",
   "execution_count": 51,
   "metadata": {},
   "outputs": [],
   "source": [
    "data2_5_diff = df['cfvdctrdvnumvm0012'] - df['cfvdctrdvnumvm0001']"
   ]
  },
  {
   "cell_type": "code",
   "execution_count": 52,
   "metadata": {},
   "outputs": [],
   "source": [
    "data2_diff = pd.concat([data2_1_diff,data2_2_diff,data2_3_diff,data2_4_diff,data2_5_diff],axis=1)"
   ]
  },
  {
   "cell_type": "code",
   "execution_count": 53,
   "metadata": {},
   "outputs": [],
   "source": [
    "data2_diff.columns=['cfvfdpvnumvm12_1','cfvcctrdamovm12_1','cfvdctrdamovm12_1',\n",
    "                    'cfvcctrdvnumvm12_1','cfvdctrdvnumvm12_1']"
   ]
  },
  {
   "cell_type": "code",
   "execution_count": 54,
   "metadata": {},
   "outputs": [],
   "source": [
    "data2_diff['cfvfdpvnumvm_avg'] = df.eval('(cfvfdpvnumvm0012+cfvfdpvnumvm0006+cfvfdpvnumvm0003+cfvfdpvnumvm0002+cfvfdpvnumvm0001)/5')"
   ]
  },
  {
   "cell_type": "code",
   "execution_count": 55,
   "metadata": {},
   "outputs": [],
   "source": [
    "data2_diff['cfvcctrdamovm_avg'] = df.eval('(cfvcctrdamovm0012+cfvcctrdamovm0006+cfvcctrdamovm0003+cfvcctrdamovm0001)/4')"
   ]
  },
  {
   "cell_type": "code",
   "execution_count": 56,
   "metadata": {},
   "outputs": [],
   "source": [
    "data2_diff['cfvcctrdvnumvm_avg'] = df.eval('(cfvcctrdvnumvm0012+cfvcctrdvnumvm0006+cfvcctrdvnumvm0003+cfvcctrdvnumvm0001)/4')"
   ]
  },
  {
   "cell_type": "code",
   "execution_count": 57,
   "metadata": {},
   "outputs": [],
   "source": [
    "data2_diff['cfvdctrdamovm_avg'] = df.eval('( cfvdctrdamovm0012+ cfvdctrdamovm0006+ cfvdctrdamovm0003+ cfvdctrdamovm0001)/4')"
   ]
  },
  {
   "cell_type": "code",
   "execution_count": 58,
   "metadata": {},
   "outputs": [],
   "source": [
    "data2_diff['cfvdctrdvnumvm_avg'] = df.eval('(cfvdctrdvnumvm0012+cfvdctrdvnumvm0006+cfvdctrdvnumvm0003+cfvdctrdvnumvm0001)/4')"
   ]
  },
  {
   "cell_type": "code",
   "execution_count": 59,
   "metadata": {},
   "outputs": [],
   "source": [
    "data2_diff = data2_diff.fillna(-1)"
   ]
  },
  {
   "cell_type": "code",
   "execution_count": 60,
   "metadata": {},
   "outputs": [],
   "source": [
    "data2_diff['trdamo0012'] = df['cfvcctrdamovm0012'] - df['cfvdctrdamovm0012']"
   ]
  },
  {
   "cell_type": "code",
   "execution_count": 61,
   "metadata": {},
   "outputs": [],
   "source": [
    "data2_diff['trdvnum0012'] = df['cfvcctrdvnumvm0012'] - df['cfvdctrdvnumvm0012']"
   ]
  },
  {
   "cell_type": "code",
   "execution_count": 62,
   "metadata": {},
   "outputs": [],
   "source": [
    "data2_diff['cfvcctrdavgvm0012'] = df['cfvcctrdamovm0012']/df['cfvcctrdvnumvm0012']"
   ]
  },
  {
   "cell_type": "code",
   "execution_count": 63,
   "metadata": {},
   "outputs": [],
   "source": [
    "data2_diff['cfvdctrdavgvm0012'] = df['cfvdctrdamovm0012']/df['cfvdctrdvnumvm0012']"
   ]
  },
  {
   "cell_type": "code",
   "execution_count": 64,
   "metadata": {},
   "outputs": [],
   "source": [
    "data2_diff = data2_diff.replace([np.inf, -np.inf,np.NaN], 0)"
   ]
  },
  {
   "cell_type": "markdown",
   "metadata": {},
   "source": [
    "### 资产状况(时间平均)"
   ]
  },
  {
   "cell_type": "code",
   "execution_count": 65,
   "metadata": {},
   "outputs": [],
   "source": [
    "data3_1_diff = df.eval('(covassvhypvm0012+covassvhypvm0006+covassvhypvm0003+covassvhypvm0002+covassvhypvm0001)/5')"
   ]
  },
  {
   "cell_type": "code",
   "execution_count": 66,
   "metadata": {},
   "outputs": [],
   "source": [
    "data3_2_diff = df.eval('(covassbalvmaxvm0012+covassbalvmaxvm0006+covassbalvmaxvm0003+covassbalvmaxvm0002+covassbalvmaxvm0001)/5')"
   ]
  },
  {
   "cell_type": "code",
   "execution_count": 67,
   "metadata": {},
   "outputs": [],
   "source": [
    "data3_3_diff = df.eval('(covasshypvst2vm0003+covasshypvst2vm0006+covasshypvst2vm0012)/3')"
   ]
  },
  {
   "cell_type": "code",
   "execution_count": 68,
   "metadata": {},
   "outputs": [],
   "source": [
    "data3_diff = pd.concat([data3_1_diff,data3_2_diff,data3_3_diff],axis=1)"
   ]
  },
  {
   "cell_type": "code",
   "execution_count": 69,
   "metadata": {},
   "outputs": [],
   "source": [
    "data3_diff.columns=['covassvhypvm_avg','covassbalvmaxvm_avg','covasshypvst2vm_avg']"
   ]
  },
  {
   "cell_type": "code",
   "execution_count": 70,
   "metadata": {},
   "outputs": [],
   "source": [
    "data3_diff = data3_diff.fillna(-1)"
   ]
  },
  {
   "cell_type": "code",
   "execution_count": 85,
   "metadata": {},
   "outputs": [],
   "source": [
    "df10 = df9.copy()"
   ]
  },
  {
   "cell_type": "code",
   "execution_count": 86,
   "metadata": {},
   "outputs": [],
   "source": [
    "df10 = pd.concat([df10,data1_1_diff,data2_diff,data3_diff],axis=1)"
   ]
  },
  {
   "cell_type": "code",
   "execution_count": 87,
   "metadata": {},
   "outputs": [
    {
     "data": {
      "text/plain": [
       "(1124043, 56)"
      ]
     },
     "execution_count": 87,
     "metadata": {},
     "output_type": "execute_result"
    }
   ],
   "source": [
    "df10.shape"
   ]
  },
  {
   "cell_type": "code",
   "execution_count": 88,
   "metadata": {},
   "outputs": [],
   "source": [
    "df10.to_csv('./df10.csv')"
   ]
  },
  {
   "cell_type": "markdown",
   "metadata": {},
   "source": [
    "### 渠道交易1与渠道行为(时间差分，时间平均)"
   ]
  },
  {
   "cell_type": "code",
   "execution_count": 89,
   "metadata": {},
   "outputs": [],
   "source": [
    "df10['cbvartbhevnumvm_avg'] = df.eval('(cbvartbhevnumvm0024+cbvartbhevnumvm0012+cbvartbhevnumvm0006+cbvartbhevnumvm0003+cbvartbhevnumvm0002+cbvartbhevnumvm0001)/6')"
   ]
  },
  {
   "cell_type": "code",
   "execution_count": 90,
   "metadata": {},
   "outputs": [],
   "source": [
    "df10['cbvartbhevamovm_avg'] = df.eval('(cbvartbhevamovm0024+cbvartbhevamovm0012+cbvartbhevamovm0006+cbvartbhevamovm0003+cbvartbhevamovm0002+cbvartbhevamovm0001)/6')"
   ]
  },
  {
   "cell_type": "code",
   "execution_count": 91,
   "metadata": {},
   "outputs": [],
   "source": [
    "df10['cbvartavgvnumvm_avg'] = df.eval('(cbvartavgvnumvm0024+cbvartavgvnumvm0012+cbvartavgvnumvm0006+cbvartavgvnumvm0003+cbvartavgvnumvm0002+cbvartavgvnumvm0001)/6')"
   ]
  },
  {
   "cell_type": "code",
   "execution_count": 92,
   "metadata": {},
   "outputs": [],
   "source": [
    "df10['cbvartavgvamovm_avg']  = df.eval('(cbvartavgvamovm0024+cbvartavgvamovm0012+cbvartavgvamovm0006+cbvartavgvamovm0003+cbvartavgvamovm0002+cbvartavgvamovm0001)/6')"
   ]
  },
  {
   "cell_type": "code",
   "execution_count": 93,
   "metadata": {},
   "outputs": [],
   "source": [
    "df10['cbvmobblogvnumvm_avg']  = df.eval('(cbvmobblogvnumvm0024+cbvmobblogvnumvm0012+cbvmobblogvnumvm0006+cbvmobblogvnumvm0003+cbvmobblogvnumvm0002+cbvmobblogvnumvm0001)/6')"
   ]
  },
  {
   "cell_type": "code",
   "execution_count": 94,
   "metadata": {},
   "outputs": [],
   "source": [
    "df10['cbvmobblogvnumvm24_1'] = df['cbvmobblogvnumvm0024']-df['cbvmobblogvnumvm0001']"
   ]
  },
  {
   "cell_type": "code",
   "execution_count": 95,
   "metadata": {},
   "outputs": [],
   "source": [
    "df10.iloc[:,-6:] = df10.iloc[:,-6:].fillna(-1)"
   ]
  },
  {
   "cell_type": "code",
   "execution_count": 96,
   "metadata": {},
   "outputs": [
    {
     "data": {
      "text/plain": [
       "(1124043, 62)"
      ]
     },
     "execution_count": 96,
     "metadata": {},
     "output_type": "execute_result"
    }
   ],
   "source": [
    "df10.shape"
   ]
  },
  {
   "cell_type": "markdown",
   "metadata": {},
   "source": [
    "## 组间特征交叉"
   ]
  },
  {
   "cell_type": "markdown",
   "metadata": {},
   "source": [
    "### 与月份交叉(按月份分组求平均，中位数或者最大值)"
   ]
  },
  {
   "cell_type": "code",
   "execution_count": 97,
   "metadata": {},
   "outputs": [],
   "source": [
    "age_mean=df10.groupby('settime_month').mean()['age']"
   ]
  },
  {
   "cell_type": "code",
   "execution_count": 98,
   "metadata": {},
   "outputs": [],
   "source": [
    "for i in  age_mean.index:   \n",
    "    df10.loc[df10[df10['settime_month']==i].index,'age_month'] = age_mean[i]"
   ]
  },
  {
   "cell_type": "code",
   "execution_count": 99,
   "metadata": {},
   "outputs": [],
   "source": [
    "acctage_median=df10.groupby('settime_month').median()['acctage']"
   ]
  },
  {
   "cell_type": "code",
   "execution_count": 100,
   "metadata": {},
   "outputs": [],
   "source": [
    "for i in  acctage_median.index:   \n",
    "    df10.loc[df10[df10['settime_month']==i].index,'acctage_month'] = acctage_median[i]"
   ]
  },
  {
   "cell_type": "code",
   "execution_count": 101,
   "metadata": {},
   "outputs": [],
   "source": [
    "cfvfdpvnumvm0012_max=df10.groupby('settime_month').max()['cfvfdpvnumvm0012']"
   ]
  },
  {
   "cell_type": "code",
   "execution_count": 102,
   "metadata": {},
   "outputs": [],
   "source": [
    "for i in  cfvfdpvnumvm0012_max.index:   \n",
    "    df10.loc[df10[df10['settime_month']==i].index,'cfvfdpvnumvm0012_month'] = cfvfdpvnumvm0012_max[i]"
   ]
  },
  {
   "cell_type": "code",
   "execution_count": 103,
   "metadata": {},
   "outputs": [],
   "source": [
    "covassbalvmaxvm0001_median=df10.groupby('settime_month').median()['covassbalvmaxvm0001'].astype(int)"
   ]
  },
  {
   "cell_type": "code",
   "execution_count": 104,
   "metadata": {},
   "outputs": [],
   "source": [
    "for i in  covassbalvmaxvm0001_median.index:   \n",
    "    df10.loc[df10[df10['settime_month']==i].index,'covassbalvmaxvm0001_month'] = covassbalvmaxvm0001_median[i]"
   ]
  },
  {
   "cell_type": "code",
   "execution_count": 105,
   "metadata": {},
   "outputs": [],
   "source": [
    "covaccvnumvm0024_mean=df10.groupby('settime_month').mean()['covaccvnumvm0024']"
   ]
  },
  {
   "cell_type": "code",
   "execution_count": 106,
   "metadata": {},
   "outputs": [],
   "source": [
    "for i in  covaccvnumvm0024_mean.index:   \n",
    "    df10.loc[df10[df10['settime_month']==i].index,'covaccvnumvm0024_month'] = covaccvnumvm0024_mean[i]"
   ]
  },
  {
   "cell_type": "markdown",
   "metadata": {},
   "source": [
    "### 资产状况与账户数量"
   ]
  },
  {
   "cell_type": "code",
   "execution_count": 107,
   "metadata": {},
   "outputs": [],
   "source": [
    "df10['Assets_avg1'] = df['covassvhypvm0001']/df['covaccvnumvm0012']"
   ]
  },
  {
   "cell_type": "code",
   "execution_count": 108,
   "metadata": {},
   "outputs": [],
   "source": [
    "df10['Assets_avg2'] = df['covassbalvmaxvm0001']/df['covaccvnumvm0012']"
   ]
  },
  {
   "cell_type": "code",
   "execution_count": 109,
   "metadata": {},
   "outputs": [],
   "source": [
    "df10['Assets_avg3'] = df['covasshypvst2vm0012']/df['covaccvnumvm0012']"
   ]
  },
  {
   "cell_type": "code",
   "execution_count": 110,
   "metadata": {},
   "outputs": [],
   "source": [
    "df10.iloc[:,-3:] = df10.iloc[:,-3:].replace([np.inf, -np.inf,np.NaN], 0)"
   ]
  },
  {
   "cell_type": "markdown",
   "metadata": {},
   "source": [
    "### 缺失率编码"
   ]
  },
  {
   "cell_type": "code",
   "execution_count": 111,
   "metadata": {},
   "outputs": [],
   "source": [
    "df10['null_Channel2_transaction'] = df['cbvposdrwvamovm0001']\n",
    "df10['null_Channel2_transaction'] = df10['null_Channel2_transaction'].apply(lambda x: 0 if x>-1 else 1)"
   ]
  },
  {
   "cell_type": "code",
   "execution_count": 112,
   "metadata": {},
   "outputs": [],
   "source": [
    "df10['null_Self_service_transaction'] = df['cbvatmtrnovamovm0001']\n",
    "df10['null_Self_service_transaction'] = df10['null_Self_service_transaction'].apply(lambda x: 0 if x>-1 else 1)"
   ]
  },
  {
   "cell_type": "markdown",
   "metadata": {},
   "source": [
    "# 分割数据集"
   ]
  },
  {
   "cell_type": "code",
   "execution_count": 117,
   "metadata": {},
   "outputs": [
    {
     "data": {
      "text/plain": [
       "(1124043, 72)"
      ]
     },
     "execution_count": 117,
     "metadata": {},
     "output_type": "execute_result"
    }
   ],
   "source": [
    "df10.shape"
   ]
  },
  {
   "cell_type": "code",
   "execution_count": 118,
   "metadata": {},
   "outputs": [],
   "source": [
    "X_train = df10[df10['flag'].notnull()]\n",
    "X_test = df10[df10['flag'].isnull()]\n",
    "X_test.drop(['cust_id','flag'],axis=1,inplace = True)\n",
    "y_train = X_train['flag']\n",
    "X_train.drop(['cust_id','flag'],axis=1,inplace = True)"
   ]
  },
  {
   "cell_type": "code",
   "execution_count": 119,
   "metadata": {},
   "outputs": [
    {
     "data": {
      "text/plain": [
       "((784000, 70), (340043, 70))"
      ]
     },
     "execution_count": 119,
     "metadata": {},
     "output_type": "execute_result"
    }
   ],
   "source": [
    "X_train.shape,X_test.shape"
   ]
  },
  {
   "cell_type": "code",
   "execution_count": 120,
   "metadata": {},
   "outputs": [],
   "source": [
    "X_train.to_csv('./X_train.csv')\n",
    "y_train.to_csv('./y_train.csv')\n",
    "X_test.to_csv(\"./X_test.csv\")#输出到csv文件"
   ]
  },
  {
   "cell_type": "code",
   "execution_count": null,
   "metadata": {},
   "outputs": [],
   "source": []
  }
 ],
 "metadata": {
  "kernelspec": {
   "display_name": "Python 3",
   "language": "python",
   "name": "python3"
  },
  "language_info": {
   "codemirror_mode": {
    "name": "ipython",
    "version": 3
   },
   "file_extension": ".py",
   "mimetype": "text/x-python",
   "name": "python",
   "nbconvert_exporter": "python",
   "pygments_lexer": "ipython3",
   "version": "3.6.8"
  },
  "toc": {
   "base_numbering": 1,
   "nav_menu": {},
   "number_sections": true,
   "sideBar": true,
   "skip_h1_title": false,
   "title_cell": "Table of Contents",
   "title_sidebar": "Contents",
   "toc_cell": false,
   "toc_position": {
    "height": "calc(100% - 180px)",
    "left": "10px",
    "top": "150px",
    "width": "395.175px"
   },
   "toc_section_display": true,
   "toc_window_display": true
  }
 },
 "nbformat": 4,
 "nbformat_minor": 4
}
