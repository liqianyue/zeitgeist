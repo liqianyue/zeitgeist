{
 "cells": [
  {
   "cell_type": "code",
   "execution_count": 30,
   "metadata": {
    "ExecuteTime": {
     "end_time": "2021-06-27T01:27:17.334793Z",
     "start_time": "2021-06-27T01:27:17.295785Z"
    }
   },
   "outputs": [],
   "source": [
    "import numpy as np\n",
    "import pandas as pd\n",
    "from sklearn.svm import SVC\n",
    "from sklearn.metrics import roc_auc_score,auc,roc_curve,f1_score\n",
    "import matplotlib.pyplot as plt\n",
    "import sklearn.metrics\n",
    "from sklearn.model_selection import train_test_split\n",
    "from sklearn.metrics import roc_curve, auc\n",
    "from sklearn.multiclass import OneVsRestClassifier\n",
    "from sklearn.metrics import confusion_matrix\n",
    "from sklearn import metrics\n",
    "from imblearn.over_sampling import SMOTE,ADASYN\n",
    "from imblearn.under_sampling import RandomUnderSampler\n",
    "from sklearn.ensemble import RandomForestClassifier\n",
    "RandomUnderSampler\n",
    "from sklearn  import preprocessing\n",
    "import  xgboost\n",
    "from xgboost import XGBClassifier\n",
    "from sklearn.neighbors import KNeighborsClassifier\n",
    "from keras.models import Sequential\n",
    "from keras.layers import Conv2D,MaxPool2D\n",
    "from keras.layers import Conv1D, MaxPooling1D,Dropout\n",
    "from keras.layers import Dense,Flatten\n",
    "from keras.utils import to_categorical\n",
    "import matplotlib.pyplot as plt\n",
    "from sklearn.preprocessing import scale\n",
    "from sklearn.metrics import roc_curve, auc\n",
    "from sklearn.model_selection import StratifiedKFold\n",
    "#import utils.tools as utils\n",
    "from keras.models import Sequential\n",
    "from keras.layers import Dense\n",
    "from keras.layers import Flatten\n",
    "from keras.layers import Conv1D, MaxPooling1D,Dropout,AveragePooling1D,GlobalAvgPool1D,GlobalMaxPool1D\n",
    "from keras.models import Model\n",
    "import tensorflow as tf\n",
    "import lightgbm as lgb"
   ]
  },
  {
   "cell_type": "code",
   "execution_count": 45,
   "metadata": {
    "ExecuteTime": {
     "end_time": "2021-06-27T06:19:33.121995Z",
     "start_time": "2021-06-27T06:19:23.442194Z"
    }
   },
   "outputs": [
    {
     "name": "stdout",
     "output_type": "stream",
     "text": [
      "(784000,)\n",
      "(784000, 96)\n",
      "(784000,)\n",
      "(340043, 96)\n"
     ]
    }
   ],
   "source": [
    "#训练集\n",
    "train_data=pd.read_csv(\"./train7.4.csv\")\n",
    "#测试集\n",
    "test_data=pd.read_csv(\"./test7.4.csv\")\n",
    "#训练标签\n",
    "train_label=pd.read_csv(\"./y_train.csv\")\n",
    "train_label=train_label.iloc[:,1]\n",
    "print(train_label.shape)\n",
    "#删除前两列无意义的特征\n",
    "train_data=train_data.iloc[:,2:].values\n",
    "train_label=train_label.values.ravel()\n",
    "print(train_data.shape)\n",
    "print(train_label.shape)\n",
    "test_data=test_data.iloc[:,2:].values\n",
    "print(test_data.shape)"
   ]
  },
  {
   "cell_type": "code",
   "execution_count": 4,
   "metadata": {
    "ExecuteTime": {
     "end_time": "2021-06-26T13:02:48.222807Z",
     "start_time": "2021-06-26T13:01:35.952526Z"
    }
   },
   "outputs": [],
   "source": [
    "#过采样\n",
    "model_smote=SMOTE(k_neighbors=20)\n",
    "x,y=model_smote.fit_resample(train_data,train_label)"
   ]
  },
  {
   "cell_type": "code",
   "execution_count": 46,
   "metadata": {
    "ExecuteTime": {
     "end_time": "2021-06-27T06:21:49.761617Z",
     "start_time": "2021-06-27T06:19:40.121139Z"
    }
   },
   "outputs": [
    {
     "name": "stdout",
     "output_type": "stream",
     "text": [
      "(340043, 96)\n"
     ]
    }
   ],
   "source": [
    "#归一化\n",
    "from sklearn.preprocessing import StandardScaler\n",
    "std=StandardScaler()\n",
    "X=std.fit_transform(x)\n",
    "X_ind=std.transform(test_data)\n",
    "print(X_ind.shape)"
   ]
  },
  {
   "cell_type": "code",
   "execution_count": 47,
   "metadata": {
    "ExecuteTime": {
     "end_time": "2021-06-27T06:21:55.106934Z",
     "start_time": "2021-06-27T06:21:54.648816Z"
    }
   },
   "outputs": [],
   "source": [
    "train_data_inp=std.transform(train_data)\n",
    "train_data_inp=train_data_inp.reshape(train_data_inp.shape[0],train_data_inp.shape[1],1)\n",
    "train_data_inp=train_data_inp.astype('float32')"
   ]
  },
  {
   "cell_type": "code",
   "execution_count": 6,
   "metadata": {
    "ExecuteTime": {
     "end_time": "2021-06-26T13:02:51.189243Z",
     "start_time": "2021-06-26T13:02:50.651696Z"
    }
   },
   "outputs": [],
   "source": [
    "X_train, X_test, y_train, y_test = train_test_split(X, y, test_size=0.2, random_state=4)"
   ]
  },
  {
   "cell_type": "code",
   "execution_count": null,
   "metadata": {
    "ExecuteTime": {
     "end_time": "2021-06-26T14:11:07.081277Z",
     "start_time": "2021-06-26T14:11:06.973958Z"
    }
   },
   "outputs": [],
   "source": []
  },
  {
   "cell_type": "code",
   "execution_count": 7,
   "metadata": {
    "ExecuteTime": {
     "end_time": "2021-06-26T13:02:51.716461Z",
     "start_time": "2021-06-26T13:02:51.190243Z"
    }
   },
   "outputs": [],
   "source": [
    "#模型输入的张量格式转换\n",
    "#X_all是所有训练集\n",
    "X_all=X.reshape(X.shape[0],X.shape[1],1)\n",
    "X_train=X_train.reshape(X_train.shape[0],X_train.shape[1],1)\n",
    "X_test=X_test.reshape(X_test.shape[0],X_test.shape[1],1)\n",
    "\n",
    "X_ind=X_ind.reshape(X_ind.shape[0],X_ind.shape[1],1)\n",
    "X_ind=X_ind.astype('float32')\n",
    "\n",
    "X_all=X_all.astype('float32')\n",
    "X_train=X_train.astype('float32')\n",
    "X_test=X_test.astype('float32')\n",
    "y_all=to_categorical(y,2)\n",
    "y_train=to_categorical(y_train,2)\n",
    "y_test=to_categorical(y_test,2)"
   ]
  },
  {
   "cell_type": "code",
   "execution_count": 8,
   "metadata": {
    "ExecuteTime": {
     "end_time": "2021-06-26T14:08:30.263785Z",
     "start_time": "2021-06-26T13:02:51.717442Z"
    }
   },
   "outputs": [
    {
     "name": "stdout",
     "output_type": "stream",
     "text": [
      "Epoch 1/30\n",
      "1400/1400 [==============================] - 133s 95ms/step - loss: 0.1529 - accuracy: 0.9466\n",
      "Epoch 2/30\n",
      "1400/1400 [==============================] - 132s 95ms/step - loss: 0.0870 - accuracy: 0.9659\n",
      "Epoch 3/30\n",
      "1400/1400 [==============================] - 132s 94ms/step - loss: 0.0770 - accuracy: 0.9690\n",
      "Epoch 4/30\n",
      "1400/1400 [==============================] - 132s 94ms/step - loss: 0.0729 - accuracy: 0.9703\n",
      "Epoch 5/30\n",
      "1400/1400 [==============================] - 130s 93ms/step - loss: 0.0694 - accuracy: 0.9717s - loss: 0.0694 \n",
      "Epoch 6/30\n",
      "1400/1400 [==============================] - 131s 93ms/step - loss: 0.0675 - accuracy: 0.9722\n",
      "Epoch 7/30\n",
      "1400/1400 [==============================] - 132s 94ms/step - loss: 0.0657 - accuracy: 0.9729\n",
      "Epoch 8/30\n",
      "1400/1400 [==============================] - 129s 92ms/step - loss: 0.0649 - accuracy: 0.9730\n",
      "Epoch 9/30\n",
      "1400/1400 [==============================] - 130s 93ms/step - loss: 0.0633 - accuracy: 0.9735s - loss: 0.0633 - accuracy\n",
      "Epoch 10/30\n",
      "1400/1400 [==============================] - 131s 94ms/step - loss: 0.0625 - accuracy: 0.9741\n",
      "Epoch 11/30\n",
      "1400/1400 [==============================] - ETA: 0s - loss: 0.0619 - accuracy: 0.97 - 131s 94ms/step - loss: 0.0619 - accuracy: 0.9742\n",
      "Epoch 12/30\n",
      "1400/1400 [==============================] - 131s 94ms/step - loss: 0.0608 - accuracy: 0.9745s - loss: 0.0608 - accuracy\n",
      "Epoch 13/30\n",
      "1400/1400 [==============================] - 132s 94ms/step - loss: 0.0602 - accuracy: 0.9746\n",
      "Epoch 14/30\n",
      "1400/1400 [==============================] - 132s 94ms/step - loss: 0.0603 - accuracy: 0.9748\n",
      "Epoch 15/30\n",
      "1400/1400 [==============================] - 131s 94ms/step - loss: 0.0592 - accuracy: 0.9753s - loss: 0.0593 -  - ETA: 0s - loss: 0.0592 - accura\n",
      "Epoch 16/30\n",
      "1400/1400 [==============================] - 131s 94ms/step - loss: 0.0588 - accuracy: 0.9752\n",
      "Epoch 17/30\n",
      "1400/1400 [==============================] - 131s 93ms/step - loss: 0.0572 - accuracy: 0.9761\n",
      "Epoch 18/30\n",
      "1400/1400 [==============================] - 131s 94ms/step - loss: 0.0575 - accuracy: 0.9759\n",
      "Epoch 19/30\n",
      "1400/1400 [==============================] - 131s 94ms/step - loss: 0.0569 - accuracy: 0.9760\n",
      "Epoch 20/30\n",
      "1400/1400 [==============================] - 131s 94ms/step - loss: 0.0561 - accuracy: 0.9764\n",
      "Epoch 21/30\n",
      "1400/1400 [==============================] - 131s 94ms/step - loss: 0.0556 - accuracy: 0.9766\n",
      "Epoch 22/30\n",
      "1400/1400 [==============================] - 131s 94ms/step - loss: 0.0552 - accuracy: 0.9769\n",
      "Epoch 23/30\n",
      "1400/1400 [==============================] - 131s 94ms/step - loss: 0.0548 - accuracy: 0.9769\n",
      "Epoch 24/30\n",
      "1400/1400 [==============================] - 131s 93ms/step - loss: 0.0552 - accuracy: 0.9771\n",
      "Epoch 25/30\n",
      "1400/1400 [==============================] - 131s 94ms/step - loss: 0.0541 - accuracy: 0.9772\n",
      "Epoch 26/30\n",
      "1400/1400 [==============================] - 132s 94ms/step - loss: 0.0533 - accuracy: 0.9775\n",
      "Epoch 27/30\n",
      "1400/1400 [==============================] - 132s 94ms/step - loss: 0.0531 - accuracy: 0.9777\n",
      "Epoch 28/30\n",
      "1400/1400 [==============================] - 132s 94ms/step - loss: 0.0533 - accuracy: 0.9775\n",
      "Epoch 29/30\n",
      "1400/1400 [==============================] - 132s 94ms/step - loss: 0.0528 - accuracy: 0.9778\n",
      "Epoch 30/30\n",
      "1400/1400 [==============================] - 131s 94ms/step - loss: 0.0524 - accuracy: 0.9780\n"
     ]
    },
    {
     "data": {
      "text/plain": [
       "<tensorflow.python.keras.callbacks.History at 0x1d3b137ca00>"
      ]
     },
     "execution_count": 8,
     "metadata": {},
     "output_type": "execute_result"
    }
   ],
   "source": [
    "from keras.callbacks import EarlyStopping\n",
    "model = Sequential()\n",
    "model.add(Conv1D(filters = 64, kernel_size = 5, padding = 'same', activation= 'relu'))\n",
    "#model.add(MaxPooling1D(pool_size = 2))\n",
    "model.add(AveragePooling1D(pool_size=2))\n",
    "model.add(Conv1D(filters = 128, kernel_size =  3, padding = 'same', activation= 'relu'))\n",
    "#model.add(MaxPooling1D(pool_size = 2))\n",
    "model.add(AveragePooling1D(pool_size=2))\n",
    "model.add(Dropout(0.5))\n",
    "model.add(Flatten())\n",
    "model.add(Dense(128, activation = 'relu',name=\"Dense_128\"))\n",
    "model.add(Dense(64, activation = 'relu',name=\"Dense_64\"))\n",
    "model.add(Dense(32, activation = 'relu',name=\"Dense_32\"))\n",
    "model.add(Dense(2, activation = 'softmax',name=\"Dense_2\"))\n",
    "model.compile(loss = 'binary_crossentropy', optimizer = 'Adam', metrics =['accuracy'])#rmsprop\n",
    "\n",
    "#15-0.936\n",
    "early_stopping=EarlyStopping(monitor='loss',patience=20,verbose=1)\n",
    "model.fit(X_all,y_all,batch_size=1000,epochs=30,callbacks=[early_stopping])"
   ]
  },
  {
   "cell_type": "code",
   "execution_count": null,
   "metadata": {
    "ExecuteTime": {
     "end_time": "2021-06-27T01:28:01.472085Z",
     "start_time": "2021-06-27T01:27:23.209125Z"
    },
    "scrolled": true
   },
   "outputs": [],
   "source": [
    "ind_pri_7=model.predict_classes(X_ind)"
   ]
  },
  {
   "cell_type": "code",
   "execution_count": 29,
   "metadata": {
    "ExecuteTime": {
     "end_time": "2021-06-26T14:23:04.415187Z",
     "start_time": "2021-06-26T14:23:04.149174Z"
    }
   },
   "outputs": [],
   "source": [
    "ind_pri_7=pd.DataFrame(ind_pri_7)\n",
    "ind_pri_7.to_csv(\"./cnn_test_label.csv\",index=0,header=None)"
   ]
  },
  {
   "cell_type": "code",
   "execution_count": 55,
   "metadata": {
    "ExecuteTime": {
     "end_time": "2021-06-27T06:30:22.534875Z",
     "start_time": "2021-06-27T06:29:33.497772Z"
    }
   },
   "outputs": [
    {
     "name": "stderr",
     "output_type": "stream",
     "text": [
      "C:\\Users\\Lenovo\\myconda\\lib\\site-packages\\tensorflow\\python\\keras\\engine\\sequential.py:425: UserWarning: `model.predict_proba()` is deprecated and will be removed after 2021-01-01. Please use `model.predict()` instead.\n",
      "  warnings.warn('`model.predict_proba()` is deprecated and '\n"
     ]
    }
   ],
   "source": [
    "train_pri=model.predict_proba(train_data_inp)"
   ]
  },
  {
   "cell_type": "code",
   "execution_count": 56,
   "metadata": {
    "ExecuteTime": {
     "end_time": "2021-06-27T06:30:24.551231Z",
     "start_time": "2021-06-27T06:30:22.536861Z"
    }
   },
   "outputs": [],
   "source": [
    "train_pri=pd.DataFrame(train_pri)\n",
    "train_pri.to_csv(\"./cnn_train_pro.csv\",index=0,header=None)"
   ]
  }
 ],
 "metadata": {
  "kernelspec": {
   "display_name": "Python 3",
   "language": "python",
   "name": "python3"
  },
  "language_info": {
   "codemirror_mode": {
    "name": "ipython",
    "version": 3
   },
   "file_extension": ".py",
   "mimetype": "text/x-python",
   "name": "python",
   "nbconvert_exporter": "python",
   "pygments_lexer": "ipython3",
   "version": "3.8.3"
  },
  "toc": {
   "base_numbering": 1,
   "nav_menu": {},
   "number_sections": true,
   "sideBar": true,
   "skip_h1_title": false,
   "title_cell": "Table of Contents",
   "title_sidebar": "Contents",
   "toc_cell": false,
   "toc_position": {},
   "toc_section_display": true,
   "toc_window_display": false
  }
 },
 "nbformat": 4,
 "nbformat_minor": 4
}
