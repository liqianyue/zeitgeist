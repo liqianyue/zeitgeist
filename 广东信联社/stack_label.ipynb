{
 "cells": [
  {
   "cell_type": "code",
   "execution_count": 2,
   "metadata": {
    "ExecuteTime": {
     "end_time": "2021-06-27T00:59:38.060698Z",
     "start_time": "2021-06-27T00:59:36.583630Z"
    }
   },
   "outputs": [],
   "source": [
    "import pandas as pd\n",
    "import numpy as np"
   ]
  },
  {
   "cell_type": "code",
   "execution_count": 3,
   "metadata": {
    "ExecuteTime": {
     "end_time": "2021-06-27T00:59:40.238835Z",
     "start_time": "2021-06-27T00:59:38.062721Z"
    }
   },
   "outputs": [],
   "source": [
    "from sklearn.metrics import confusion_matrix,f1_score"
   ]
  },
  {
   "cell_type": "code",
   "execution_count": 28,
   "metadata": {
    "ExecuteTime": {
     "end_time": "2021-06-27T06:54:15.245510Z",
     "start_time": "2021-06-27T06:54:14.480716Z"
    }
   },
   "outputs": [],
   "source": [
    "##训练集\n",
    "data=pd.read_csv(\"./train_lgb_1.csv\")\n",
    "data=data.values\n",
    "data_1=pd.read_csv(\"./train_lgb_3.csv\")\n",
    "data_1=data_1.values\n",
    "data_2=pd.read_csv(\"./train_lgb_local.csv\")\n",
    "data_2=data_2.values\n",
    "data_3=pd.read_csv(\"./prob_catboost_train.csv\")\n",
    "data_3=data_3.values\n",
    "data_4=pd.read_csv(\"./cnn_train_label.csv\",header=None)\n",
    "data_4=data_4.values\n",
    "train_label=pd.read_csv(\"./y_train.csv\")\n",
    "train_label=train_label.loc[:,'flag'].values"
   ]
  },
  {
   "cell_type": "code",
   "execution_count": null,
   "metadata": {
    "ExecuteTime": {
     "end_time": "2021-06-27T06:54:19.657720Z",
     "start_time": "2021-06-27T06:54:19.639693Z"
    }
   },
   "outputs": [],
   "source": []
  },
  {
   "cell_type": "code",
   "execution_count": 24,
   "metadata": {
    "ExecuteTime": {
     "end_time": "2021-06-27T06:45:30.818399Z",
     "start_time": "2021-06-27T06:44:44.586897Z"
    },
    "collapsed": true
   },
   "outputs": [
    {
     "name": "stdout",
     "output_type": "stream",
     "text": [
      "------0.3------\n",
      "[[693253   6747]\n",
      " [   823  83177]]\n",
      "0.9564752420597502\n",
      "0.990344387755102\n",
      "------0.31------\n",
      "[[693715   6285]\n",
      " [   856  83144]]\n",
      "0.958824648703504\n",
      "0.990891581632653\n",
      "------0.32------\n",
      "[[694112   5888]\n",
      " [   894  83106]]\n",
      "0.9607963281963536\n",
      "0.9913494897959184\n",
      "------0.33------\n",
      "[[694522   5478]\n",
      " [   927  83073]]\n",
      "0.9628805396665334\n",
      "0.9918303571428572\n",
      "------0.34------\n",
      "[[694917   5083]\n",
      " [   981  83019]]\n",
      "0.9647650811727928\n",
      "0.992265306122449\n",
      "------0.35000000000000003------\n",
      "[[695291   4709]\n",
      " [  1017  82983]]\n",
      "0.9666495818092864\n",
      "0.9926964285714286\n",
      "------0.36000000000000004------\n",
      "[[695602   4398]\n",
      " [  1075  82925]]\n",
      "0.9680544935589501\n",
      "0.9930191326530612\n",
      "------0.37000000000000005------\n",
      "[[695916   4084]\n",
      " [  1121  82879]]\n",
      "0.9695548159543292\n",
      "0.9933609693877551\n",
      "------0.38000000000000006------\n",
      "[[696210   3790]\n",
      " [  1165  82835]]\n",
      "0.9709597069597069\n",
      "0.9936798469387755\n",
      "------0.39000000000000007------\n",
      "[[696487   3513]\n",
      " [  1219  82781]]\n",
      "0.9722127614595933\n",
      "0.9939642857142857\n",
      "------0.4000000000000001------\n",
      "[[696717   3283]\n",
      " [  1280  82720]]\n",
      "0.9731592971888731\n",
      "0.9941798469387755\n",
      "------0.4100000000000001------\n",
      "[[696932   3068]\n",
      " [  1336  82664]]\n",
      "0.9740532133009686\n",
      "0.9943826530612245\n",
      "------0.4200000000000001------\n",
      "[[697124   2876]\n",
      " [  1397  82603]]\n",
      "0.974787436791579\n",
      "0.9945497448979592\n",
      "------0.4300000000000001------\n",
      "[[697313   2687]\n",
      " [  1461  82539]]\n",
      "0.9754884001276399\n",
      "0.9947091836734694\n",
      "------0.4400000000000001------\n",
      "[[697519   2481]\n",
      " [  1544  82456]]\n",
      "0.9761745502761384\n",
      "0.9948660714285714\n",
      "------0.4500000000000001------\n",
      "[[697685   2315]\n",
      " [  1644  82356]]\n",
      "0.9765282710128\n",
      "0.9949502551020408\n",
      "------0.46000000000000013------\n",
      "[[697845   2155]\n",
      " [  1720  82280]]\n",
      "0.9769940926767002\n",
      "0.9950573979591837\n",
      "------0.47000000000000014------\n",
      "[[698016   1984]\n",
      " [  1795  82205]]\n",
      "0.9775312297474865\n",
      "0.9951798469387755\n",
      "------0.48000000000000015------\n",
      "[[698186   1814]\n",
      " [  1881  82119]]\n",
      "0.9779971774457671\n",
      "0.9952869897959183\n",
      "------0.49000000000000016------\n",
      "[[698327   1673]\n",
      " [  1976  82024]]\n",
      "0.9782405171231446\n",
      "0.9953456632653062\n"
     ]
    }
   ],
   "source": [
    "#阈值选择\n",
    "#train:0.36\n",
    "#train_1:0.39\n",
    "#train_2:0.41\n",
    "#train_3:0.38\n",
    "yu_num=np.arange(0.3,0.5,0.01)\n",
    "for yu in yu_num:\n",
    "    print(\"------{}------\".format(yu))\n",
    "    label=[]\n",
    "    for i in range(data_3.shape[0]):\n",
    "        if (data_3[i]>yu):\n",
    "            label.append(1)\n",
    "        else:\n",
    "            label.append(0)\n",
    "    print(confusion_matrix(train_label,label))\n",
    "    print(f1_score(train_label,label))\n",
    "    print(accuracy_score(train_label,label))"
   ]
  },
  {
   "cell_type": "code",
   "execution_count": 30,
   "metadata": {
    "ExecuteTime": {
     "end_time": "2021-06-27T06:54:49.638789Z",
     "start_time": "2021-06-27T06:54:27.608207Z"
    },
    "collapsed": true
   },
   "outputs": [
    {
     "name": "stdout",
     "output_type": "stream",
     "text": [
      "-----1----\n",
      "[[699807    193]\n",
      " [    12  83988]]\n",
      "0.9987810751511764\n",
      "0.9997385204081632\n",
      "-----2----\n",
      "[[699965     35]\n",
      " [    19  83981]]\n",
      "0.9996786020379012\n",
      "0.9999311224489796\n",
      "-----3----\n",
      "[[699980     20]\n",
      " [   197  83803]]\n",
      "0.9987069710349594\n",
      "0.9997232142857143\n",
      "-----4----\n",
      "[[700000      0]\n",
      " [ 78594   5406]]\n",
      "0.12093148110865044\n",
      "0.8997525510204082\n"
     ]
    }
   ],
   "source": [
    "#投票法\n",
    "#yu=2\n",
    "yu_num=[1,2,3,4]\n",
    "for yu in yu_num:\n",
    "    print(\"-----{}----\".format(yu))\n",
    "    label=[]\n",
    "    for i in range(data.shape[0]):\n",
    "        loc=0\n",
    "        if (data[i]>0.36):\n",
    "            loc+=1\n",
    "        if (data_1[i]>0.39):\n",
    "            loc+=1\n",
    "        if (data_2[i]>0.41):\n",
    "            loc+=1\n",
    "        if (data_3[i]>0.38):\n",
    "            loc+=1\n",
    "        if (data_4[i,0]<0.5):\n",
    "            loc+=1\n",
    "        if (loc>yu):\n",
    "            label.append(1)\n",
    "        else:\n",
    "            label.append(0)\n",
    "    print(confusion_matrix(train_label,label))\n",
    "    print(f1_score(train_label,label))\n",
    "    print(accuracy_score(train_label,label))"
   ]
  },
  {
   "cell_type": "code",
   "execution_count": 31,
   "metadata": {
    "ExecuteTime": {
     "end_time": "2021-06-27T06:56:16.909308Z",
     "start_time": "2021-06-27T06:56:16.593217Z"
    }
   },
   "outputs": [
    {
     "name": "stdout",
     "output_type": "stream",
     "text": [
      "(340043, 1)\n"
     ]
    }
   ],
   "source": [
    "#测试集\n",
    "data=pd.read_csv(\"./prob_lgb_1.csv\")\n",
    "data_1=pd.read_csv(\"./prob_lgb_2.csv\")\n",
    "data_2=pd.read_csv(\"./prob_catboost.csv\")\n",
    "data_3=pd.read_csv(\"./prob_lgb+focal_loss.csv\")\n",
    "test_label=pd.read_csv(\"./test_label.csv\")\n",
    "test_label=test_label.values\n",
    "print(test_label.shape)"
   ]
  },
  {
   "cell_type": "code",
   "execution_count": 5,
   "metadata": {
    "ExecuteTime": {
     "end_time": "2021-06-27T00:59:43.319164Z",
     "start_time": "2021-06-27T00:59:41.335635Z"
    }
   },
   "outputs": [],
   "source": [
    "label=[]\n",
    "for i in range(data.shape[0]):\n",
    "    if (data.iloc[i,0]>0.5):\n",
    "        label.append(1)\n",
    "    else:\n",
    "        label.append(0)"
   ]
  },
  {
   "cell_type": "code",
   "execution_count": 36,
   "metadata": {
    "ExecuteTime": {
     "end_time": "2021-06-26T14:25:46.527316Z",
     "start_time": "2021-06-26T14:25:44.556627Z"
    }
   },
   "outputs": [],
   "source": [
    "###1\n",
    "label=[]\n",
    "for i in range(data.shape[0]):\n",
    "    if (data.iloc[i,0]>0.36):\n",
    "        label.append(1)\n",
    "    else:\n",
    "        label.append(0)"
   ]
  },
  {
   "cell_type": "code",
   "execution_count": 37,
   "metadata": {
    "ExecuteTime": {
     "end_time": "2021-06-26T14:25:53.363304Z",
     "start_time": "2021-06-26T14:25:51.373598Z"
    }
   },
   "outputs": [],
   "source": [
    "###2\n",
    "label_1=[]\n",
    "for i in range(data_1.shape[0]):\n",
    "    if (data_1.iloc[i,0]>0.39):\n",
    "        label_1.append(1)\n",
    "    else:\n",
    "        label_1.append(0)"
   ]
  },
  {
   "cell_type": "code",
   "execution_count": 39,
   "metadata": {
    "ExecuteTime": {
     "end_time": "2021-06-26T14:26:23.909110Z",
     "start_time": "2021-06-26T14:26:21.932603Z"
    }
   },
   "outputs": [],
   "source": [
    "###3\n",
    "label_2=[]\n",
    "for i in range(data_2.shape[0]):\n",
    "    if (data_2.iloc[i,0]>0.41):\n",
    "        label_2.append(1)\n",
    "    else:\n",
    "        label_2.append(0)"
   ]
  },
  {
   "cell_type": "code",
   "execution_count": 40,
   "metadata": {
    "ExecuteTime": {
     "end_time": "2021-06-26T14:26:44.010230Z",
     "start_time": "2021-06-26T14:26:42.052744Z"
    }
   },
   "outputs": [],
   "source": [
    "###4\n",
    "label_3=[]\n",
    "for i in range(data_3.shape[0]):\n",
    "    if (data_3.iloc[i,0]>0.38):\n",
    "        label_3.append(1)\n",
    "    else:\n",
    "        label_3.append(0)"
   ]
  },
  {
   "cell_type": "code",
   "execution_count": 8,
   "metadata": {
    "ExecuteTime": {
     "end_time": "2021-06-27T01:00:09.680884Z",
     "start_time": "2021-06-27T01:00:09.638610Z"
    }
   },
   "outputs": [],
   "source": [
    "###5\n",
    "label_cnn=pd.read_csv(\"./cnn_test_label.csv\",header=None)\n",
    "label_cnn=np.array(label_cnn)"
   ]
  },
  {
   "cell_type": "code",
   "execution_count": 72,
   "metadata": {
    "ExecuteTime": {
     "end_time": "2021-06-27T00:18:49.053144Z",
     "start_time": "2021-06-27T00:18:48.473286Z"
    }
   },
   "outputs": [],
   "source": [
    "vote_label=[]\n",
    "for i in range(label_cnn.shape[0]):\n",
    "    loc=0\n",
    "    if (label[i]==1):\n",
    "        loc+=1\n",
    "    if (label_1[i]==1):\n",
    "        loc+=1\n",
    "    if (label_2[i]==1):\n",
    "        loc+=1\n",
    "    if (label_3[i]==1):\n",
    "        loc+=1\n",
    "    if (label_cnn[i]==1):\n",
    "        loc+=1\n",
    "    if (loc>3):\n",
    "        vote_label.append(1)\n",
    "    else:\n",
    "        vote_label.append(0)"
   ]
  },
  {
   "cell_type": "code",
   "execution_count": 73,
   "metadata": {
    "ExecuteTime": {
     "end_time": "2021-06-27T00:18:50.526742Z",
     "start_time": "2021-06-27T00:18:50.248658Z"
    }
   },
   "outputs": [
    {
     "data": {
      "text/plain": [
       "array([[294147,   5853],\n",
       "       [  4456,  35587]], dtype=int64)"
      ]
     },
     "execution_count": 73,
     "metadata": {},
     "output_type": "execute_result"
    }
   ],
   "source": [
    "confusion_matrix(test_label,vote_label)"
   ]
  },
  {
   "cell_type": "code",
   "execution_count": 74,
   "metadata": {
    "ExecuteTime": {
     "end_time": "2021-06-27T00:18:52.683005Z",
     "start_time": "2021-06-27T00:18:52.496919Z"
    }
   },
   "outputs": [
    {
     "name": "stdout",
     "output_type": "stream",
     "text": [
      "0.8734828123657695\n"
     ]
    }
   ],
   "source": [
    "print(f1_score(test_label,vote_label))"
   ]
  },
  {
   "cell_type": "code",
   "execution_count": 33,
   "metadata": {
    "ExecuteTime": {
     "end_time": "2021-06-27T06:58:40.992990Z",
     "start_time": "2021-06-27T06:58:32.593099Z"
    }
   },
   "outputs": [
    {
     "name": "stdout",
     "output_type": "stream",
     "text": [
      "0.8738448104397604\n",
      "[[293615   6385]\n",
      " [  4017  36026]]\n"
     ]
    }
   ],
   "source": [
    "label_s=[]\n",
    "for i in range(data.shape[0]):\n",
    "    loc=0\n",
    "    loc+=data.iloc[i,0]\n",
    "    loc+=(data_1.iloc[i,0]+data_2.iloc[i,0]+data_3.iloc[i,0])\n",
    "    if (loc>1.59):\n",
    "        label_s.append(1)\n",
    "    else:\n",
    "        label_s.append(0)\n",
    "print(f1_score(test_label,label_s))\n",
    "print(confusion_matrix(test_label,label_s))"
   ]
  },
  {
   "cell_type": "code",
   "execution_count": 34,
   "metadata": {
    "ExecuteTime": {
     "end_time": "2021-06-27T07:00:12.701548Z",
     "start_time": "2021-06-27T07:00:12.353844Z"
    }
   },
   "outputs": [],
   "source": [
    "label_s = pd.DataFrame(label_s,columns=['flag'])\n",
    "label_s.to_csv('./final_test_label.csv',index = False)"
   ]
  }
 ],
 "metadata": {
  "kernelspec": {
   "display_name": "Python 3",
   "language": "python",
   "name": "python3"
  },
  "language_info": {
   "codemirror_mode": {
    "name": "ipython",
    "version": 3
   },
   "file_extension": ".py",
   "mimetype": "text/x-python",
   "name": "python",
   "nbconvert_exporter": "python",
   "pygments_lexer": "ipython3",
   "version": "3.8.3"
  },
  "toc": {
   "base_numbering": 1,
   "nav_menu": {},
   "number_sections": true,
   "sideBar": true,
   "skip_h1_title": false,
   "title_cell": "Table of Contents",
   "title_sidebar": "Contents",
   "toc_cell": false,
   "toc_position": {},
   "toc_section_display": true,
   "toc_window_display": false
  }
 },
 "nbformat": 4,
 "nbformat_minor": 4
}
