{
 "cells": [
  {
   "cell_type": "code",
   "execution_count": 1,
   "metadata": {
    "ExecuteTime": {
     "end_time": "2021-07-04T12:00:19.733107Z",
     "start_time": "2021-07-04T12:00:18.509556Z"
    }
   },
   "outputs": [],
   "source": [
    "import pandas as pd\n",
    "import numpy as np\n",
    "from sklearn.metrics import confusion_matrix,f1_score,accuracy_score"
   ]
  },
  {
   "cell_type": "code",
   "execution_count": null,
   "metadata": {
    "ExecuteTime": {
     "end_time": "2021-07-04T11:08:37.115540Z",
     "start_time": "2021-07-04T11:08:37.083491Z"
    }
   },
   "outputs": [],
   "source": [
    "#训练集\n",
    "data_1=pd.read_csv(\"./train_lgb_1.csv\")\n",
    "data_1=data_1.iloc[:,0].values\n",
    "data_2=pd.read_csv(\"./train_lgb_2.csv\")\n",
    "data_2=data_2.iloc[:,0].values\n",
    "data_3=pd.read_csv(\"./train_lgb_local.csv\")\n",
    "data_3=data_3.iloc[:,0].values\n",
    "data_4=pd.read_csv(\"./prob_catboost_train.csv\")\n",
    "data_4=data_4.iloc[:,0].values\n",
    "data_5=pd.read_csv(\"./pro_train_lgb_8_3.csv\",header=None)\n",
    "data_5=data_5.iloc[:,1].values\n",
    "data_6=pd.read_csv(\"../xgb_pro_train.csv\",header=None)\n",
    "data_6=data_6.iloc[:,1].values\n",
    "data_7=pd.read_csv(\"./cnn_train_label.csv\",header=None)\n",
    "data_7=data_7.values\n",
    "train_label=pd.read_csv(\"../y_train.csv\")\n",
    "train_label=train_label.loc[:,'flag'].values"
   ]
  },
  {
   "cell_type": "code",
   "execution_count": 2,
   "metadata": {
    "ExecuteTime": {
     "end_time": "2021-07-04T12:00:22.266146Z",
     "start_time": "2021-07-04T12:00:22.260917Z"
    }
   },
   "outputs": [],
   "source": [
    "#threshold阈值寻忧函数\n",
    "def yu_get(data_loc):\n",
    "    yu_num=np.arange(0.3,0.5,0.01)\n",
    "    for yu in yu_num:\n",
    "        print(\"------{}------\".format(yu))\n",
    "        label=[]\n",
    "        for i in range(data_loc.shape[0]):\n",
    "            if (data_loc[i]>yu):\n",
    "                label.append(1)\n",
    "            else:\n",
    "                label.append(0)\n",
    "        print(f1_score(test_label,label))\n",
    "        print(accuracy_score(test_label,label))"
   ]
  },
  {
   "cell_type": "code",
   "execution_count": 3,
   "metadata": {
    "ExecuteTime": {
     "end_time": "2021-07-04T12:00:23.070212Z",
     "start_time": "2021-07-04T12:00:23.061963Z"
    }
   },
   "outputs": [],
   "source": [
    "def label_get(yu,data_loc):\n",
    "    label_loc=[]\n",
    "    for i in range(data_loc.shape[0]):\n",
    "        if (data_loc[i]>yu):\n",
    "            label_loc.append(1)\n",
    "        else:\n",
    "            label_loc.append(0)\n",
    "    return label_loc"
   ]
  },
  {
   "cell_type": "code",
   "execution_count": null,
   "metadata": {},
   "outputs": [],
   "source": [
    "#模型1阈值寻优\n",
    "##yu=0.36"
   ]
  },
  {
   "cell_type": "code",
   "execution_count": null,
   "metadata": {},
   "outputs": [],
   "source": [
    "#模型2阈值寻优\n",
    "##yu=0.39\n",
    "yu_get(data_2)"
   ]
  },
  {
   "cell_type": "code",
   "execution_count": null,
   "metadata": {},
   "outputs": [],
   "source": [
    "#模型3阈值寻优\n",
    "##yu=0.38\n",
    "yu_get(data_3)"
   ]
  },
  {
   "cell_type": "code",
   "execution_count": null,
   "metadata": {},
   "outputs": [],
   "source": [
    "#模型4阈值寻优\n",
    "##yu=0.41\n",
    "yu_get(data_4)"
   ]
  },
  {
   "cell_type": "code",
   "execution_count": null,
   "metadata": {},
   "outputs": [],
   "source": [
    "#模型5阈值寻优\n",
    "##yu=0.40\n",
    "yu_get(data_5)"
   ]
  },
  {
   "cell_type": "code",
   "execution_count": null,
   "metadata": {},
   "outputs": [],
   "source": [
    "#模型6阈值寻优\n",
    "##yu=0.45\n",
    "yu_get(data_6)"
   ]
  },
  {
   "cell_type": "code",
   "execution_count": null,
   "metadata": {
    "ExecuteTime": {
     "end_time": "2021-07-04T12:00:26.055354Z",
     "start_time": "2021-07-04T12:00:25.899490Z"
    }
   },
   "outputs": [],
   "source": [
    "#训练集预测标签\n",
    "yu_get(data_1)\n",
    "label_train_1=label_get(0.36,data_1)\n",
    "label_train_2=label_get(0.39,data_2)\n",
    "label_train_3=label_get(0.38,data_3)\n",
    "label_train_4=label_get(0.41,data_4)\n",
    "label_train_5=label_get(0.40,data_5)\n",
    "label_train_6=label_get(0.45,data_6)\n",
    "label_train_7=[]\n",
    "for i in range(data_7.shape[0]):\n",
    "    if (data_7[i,0]<0.5):\n",
    "        label_train_7.append(1)\n",
    "    else:\n",
    "        label_train_7.append(0)"
   ]
  },
  {
   "cell_type": "code",
   "execution_count": null,
   "metadata": {
    "ExecuteTime": {
     "end_time": "2021-07-04T11:08:30.372355Z",
     "start_time": "2021-07-04T11:08:30.357649Z"
    }
   },
   "outputs": [],
   "source": [
    "#投票法\n",
    "yu_num=[1,2,3,4,5,6]\n",
    "for yu in yu_num:\n",
    "    print(\"-----{}----\".format(yu))\n",
    "    label=[]\n",
    "    for i in range(data_1.shape[0]):\n",
    "        loc=label_train_1[i]+label_train_2[i]+label_train_3[i]+label_train_4[i]+label_train_5[i]+label_train_6[i]+label_train_7[i]\n",
    "        if (loc>yu):\n",
    "            label.append(1)\n",
    "        else:\n",
    "            label.append(0)\n",
    "    print(f1_score(train_label,label))\n",
    "    print(accuracy_score(train_label,label))"
   ]
  },
  {
   "cell_type": "code",
   "execution_count": 5,
   "metadata": {
    "ExecuteTime": {
     "end_time": "2021-07-04T12:00:31.153312Z",
     "start_time": "2021-07-04T12:00:30.429559Z"
    }
   },
   "outputs": [],
   "source": [
    "#测试集\n",
    "data_1=pd.read_csv(\"./prob_lgb_1.csv\")\n",
    "data_1=data_1.iloc[:,0].values\n",
    "data_2=pd.read_csv(\"./prob_lgb_2.csv\")\n",
    "data_2=data_2.iloc[:,0].values\n",
    "data_3=pd.read_csv(\"./prob_lgb+focal_loss.csv\")\n",
    "data_3=data_3.iloc[:,0].values\n",
    "data_4=pd.read_csv(\"./prob_catboost.csv\")\n",
    "data_4=data_4.iloc[:,0].values\n",
    "data_5=pd.read_csv(\"./pro_test_lgb_8_3.csv\",header=None)\n",
    "data_5=data_5.iloc[:,1].values\n",
    "data_6=pd.read_csv(\"./xgb_pro_test.csv\",header=None)\n",
    "data_6=data_6.iloc[:,1].values\n",
    "data_7=pd.read_csv(\"./cnn_test_label.csv\",header=None)\n",
    "data_7=data_7.values"
   ]
  },
  {
   "cell_type": "code",
   "execution_count": 6,
   "metadata": {
    "ExecuteTime": {
     "end_time": "2021-07-04T12:00:36.196786Z",
     "start_time": "2021-07-04T12:00:34.541775Z"
    }
   },
   "outputs": [],
   "source": [
    "label_test_1=label_get(0.36,data_1)\n",
    "label_test_2=label_get(0.39,data_2)\n",
    "label_test_3=label_get(0.38,data_3)\n",
    "label_test_4=label_get(0.41,data_4)\n",
    "label_test_5=label_get(0.40,data_5)\n",
    "label_test_6=label_get(0.45,data_6)\n",
    "label_test_7=[]\n",
    "for i in range(data_7.shape[0]):\n",
    "    if (data_7[i,0]<0.5):\n",
    "        label_test_7.append(1)\n",
    "    else:\n",
    "        label_test_7.append(0)"
   ]
  },
  {
   "cell_type": "code",
   "execution_count": 21,
   "metadata": {
    "ExecuteTime": {
     "end_time": "2021-07-04T12:08:46.238741Z",
     "start_time": "2021-07-04T12:08:46.087812Z"
    }
   },
   "outputs": [],
   "source": [
    "label=[]\n",
    "for i in range(data_1.shape[0]):\n",
    "    loc=label_test_1[i]+label_test_2[i]+label_test_3[i]+label_test_4[i]+label_test_5[i]+label_test_6[i]+label_test_7[i]\n",
    "    if (loc>3):\n",
    "        label.append(1)\n",
    "    else:\n",
    "        label.append(0)"
   ]
  },
  {
   "cell_type": "code",
   "execution_count": 22,
   "metadata": {
    "ExecuteTime": {
     "end_time": "2021-07-04T12:08:47.715299Z",
     "start_time": "2021-07-04T12:08:47.182741Z"
    }
   },
   "outputs": [],
   "source": [
    "label=pd.DataFrame(label,columns=['flag'])\n",
    "label.to_csv(\"./test_label.csv\",index=0)"
   ]
  }
 ],
 "metadata": {
  "kernelspec": {
   "display_name": "Python 3",
   "language": "python",
   "name": "python3"
  },
  "language_info": {
   "codemirror_mode": {
    "name": "ipython",
    "version": 3
   },
   "file_extension": ".py",
   "mimetype": "text/x-python",
   "name": "python",
   "nbconvert_exporter": "python",
   "pygments_lexer": "ipython3",
   "version": "3.6.8"
  }
 },
 "nbformat": 4,
 "nbformat_minor": 4
}
