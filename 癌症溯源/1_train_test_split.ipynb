{
 "cells": [
  {
   "cell_type": "code",
   "execution_count": 1,
   "metadata": {
    "ExecuteTime": {
     "end_time": "2021-09-28T13:31:12.910776Z",
     "start_time": "2021-09-28T13:31:08.774999Z"
    },
    "code_folding": [
     0
    ]
   },
   "outputs": [],
   "source": [
    "#导入\n",
    "import numpy as np\n",
    "import pandas as pd\n",
    "from sklearn.mixture import GaussianMixture\n",
    "from sklearn.cluster import KMeans\n",
    "from sklearn.datasets import make_blobs\n",
    "from sklearn.metrics import confusion_matrix,accuracy_score\n",
    "from sklearn.model_selection import train_test_split\n",
    "from imblearn.over_sampling import SMOTE\n",
    "from collections import Counter\n",
    "from sklearn.preprocessing import StandardScaler\n",
    "from sklearn.manifold import TSNE\n",
    "from sklearn.decomposition import PCA,LatentDirichletAllocation\n",
    "from sklearn.decomposition import TruncatedSVD\n",
    "import umap\n",
    "import  xgboost\n",
    "from xgboost import XGBClassifier\n",
    "from sklearn.neighbors import KNeighborsClassifier\n",
    "from sklearn.decomposition import PCA\n",
    "from sklearn.preprocessing import StandardScaler\n",
    "import matplotlib.pyplot as plt\n",
    "from sklearn.manifold import TSNE\n",
    "from sklearn.svm import OneClassSVM\n",
    "import warnings\n",
    "from sklearn.svm import SVC\n",
    "import random\n",
    "import math\n",
    "warnings.filterwarnings(\"ignore\")"
   ]
  },
  {
   "cell_type": "code",
   "execution_count": 43,
   "metadata": {
    "ExecuteTime": {
     "end_time": "2021-09-27T12:05:41.365807Z",
     "start_time": "2021-09-27T11:58:26.380875Z"
    }
   },
   "outputs": [
    {
     "name": "stdout",
     "output_type": "stream",
     "text": [
      "(5708, 59385)\n",
      "(5708, 1)\n",
      "(3101, 6364)\n",
      "(3101, 1)\n"
     ]
    }
   ],
   "source": [
    "TCGA_data=pd.read_csv(\"./TCGA_data.csv\",index_col=0)\n",
    "print(TCGA_data.shape)\n",
    "TCGA_label=pd.read_csv(\"./TCGA_label.csv\",header=None)\n",
    "print(TCGA_label.shape)\n",
    "GEO_data=pd.read_csv(\"./GEO_data.csv\",index_col=0)\n",
    "print(GEO_data.shape)\n",
    "GEO_label=pd.read_csv(\"./GEO_label.csv\",header=None)\n",
    "print(GEO_label.shape)"
   ]
  },
  {
   "cell_type": "code",
   "execution_count": 46,
   "metadata": {
    "ExecuteTime": {
     "end_time": "2021-09-27T12:06:21.189095Z",
     "start_time": "2021-09-27T12:06:21.121824Z"
    }
   },
   "outputs": [],
   "source": [
    "TCGA_gene_name=TCGA_data.columns\n",
    "TCGA_gene_name=pd.DataFrame(TCGA_gene_name)\n",
    "TCGA_gene_name.to_csv(\"./TCGA_dataset/TCGA_gene_name.csv\",header=None,index=0)\n",
    "\n",
    "GEO_gene_name=GEO_data.columns\n",
    "GEO_gene_name=pd.DataFrame(GEO_gene_name)\n",
    "GEO_gene_name.to_csv(\"./GEO_dataset/GEO_gene_name.csv\",header=None,index=0)"
   ]
  },
  {
   "cell_type": "code",
   "execution_count": 48,
   "metadata": {
    "ExecuteTime": {
     "end_time": "2021-09-27T12:07:38.744291Z",
     "start_time": "2021-09-27T12:07:36.616160Z"
    }
   },
   "outputs": [
    {
     "name": "stdout",
     "output_type": "stream",
     "text": [
      "(5708, 59385)\n",
      "5708\n",
      "(3101, 6364)\n",
      "3101\n"
     ]
    }
   ],
   "source": [
    "#TCGA\n",
    "TCGA_data_1=(TCGA_data.fillna(0)).values\n",
    "print(TCGA_data_1.shape)\n",
    "TCGA_label=list(TCGA_label.loc[:,0].values)\n",
    "print(len(TCGA_label))\n",
    "\n",
    "#GEO\n",
    "GEO_data=(GEO_data.fillna(0)).values\n",
    "print(GEO_data.shape)\n",
    "GEO_label=list(GEO_label.loc[:,0].values)\n",
    "print(len(GEO_label))"
   ]
  },
  {
   "cell_type": "code",
   "execution_count": 49,
   "metadata": {
    "ExecuteTime": {
     "end_time": "2021-09-27T12:07:52.574524Z",
     "start_time": "2021-09-27T12:07:49.355538Z"
    },
    "code_folding": [
     1
    ]
   },
   "outputs": [
    {
     "name": "stdout",
     "output_type": "stream",
     "text": [
      "(4560, 59385)\n",
      "(1148, 59385)\n",
      "(2476, 6364)\n",
      "(625, 6364)\n"
     ]
    }
   ],
   "source": [
    "#分层抽样函数定义\n",
    "def str_sam_get(label_loc,stra_sam_rete_loc,class_all):\n",
    "    class_loc={}\n",
    "    for i in range(class_all):\n",
    "        class_loc[i]=[]\n",
    "    for i in range(len(label_loc)):\n",
    "        class_loc[label_loc[i]].append(i)\n",
    "    str_sam_sel=[]\n",
    "    for i in range(class_all):\n",
    "        loc_count=math.ceil(stra_sam_rate*len(class_loc[i]))\n",
    "        str_sam_sel.extend(random.sample(class_loc[i],loc_count))\n",
    "    label_loc=list(set(np.arange(len(label_loc)))-set(str_sam_sel))\n",
    "    return label_loc,str_sam_sel"
   ]
  },
  {
   "cell_type": "code",
   "execution_count": null,
   "metadata": {
    "code_folding": [
     0
    ]
   },
   "outputs": [],
   "source": [
    "#分层抽样\n",
    "#TCGA--15\n",
    "#GEO--11\n",
    "stra_sam_rate=0.2\n",
    "\n",
    "train_loc_TCGA,test_loc_TCGA=str_sam_get(TCGA_label,stra_sam_rate,15)\n",
    "train_loc_GEO,test_loc_GEO=str_sam_get(GEO_label,stra_sam_rate,11)\n",
    "\n",
    "train_TCGA=TCGA_data_1[train_loc_TCGA,:]\n",
    "test_TCGA=TCGA_data_1[test_loc_TCGA,:]\n",
    "TCGA_label=np.array(TCGA_label)\n",
    "train_TCGA_label=TCGA_label[train_loc_TCGA]\n",
    "test_TCGA_label=TCGA_label[test_loc_TCGA]\n",
    "\n",
    "\n",
    "train_GEO=GEO_data[train_loc_GEO,:]\n",
    "test_GEO=GEO_data[test_loc_GEO,:]\n",
    "GEO_label=np.array(GEO_label)\n",
    "train_GEO_label=GEO_label[train_loc_GEO]\n",
    "test_GEO_label=GEO_label[test_loc_GEO]\n",
    "\n",
    "print(train_TCGA.shape)\n",
    "print(test_TCGA.shape)\n",
    "print(train_GEO.shape)\n",
    "print(test_GEO.shape)"
   ]
  },
  {
   "cell_type": "code",
   "execution_count": 51,
   "metadata": {
    "ExecuteTime": {
     "end_time": "2021-09-27T12:22:25.071806Z",
     "start_time": "2021-09-27T12:22:01.823512Z"
    }
   },
   "outputs": [],
   "source": [
    "train_TCGA=pd.DataFrame(train_TCGA)\n",
    "test_TCGA=pd.DataFrame(test_TCGA)\n",
    "train_TCGA_label=pd.DataFrame(train_TCGA_label)\n",
    "test_TCGA_label=pd.DataFrame(test_TCGA_label)\n",
    "train_TCGA.to_csv(\"./TCGA_dataset/train_TCGA.csv\",header=None,index=0)\n",
    "test_TCGA.to_csv(\"./TCGA_dataset/test_TCGA.csv\",header=None,index=0)\n",
    "train_TCGA_label.to_csv(\"./TCGA_dataset/train_TCGA_label.csv\",header=None,index=0)\n",
    "test_TCGA_label.to_csv(\"./TCGA_dataset/test_TCGA_label.csv\",header=None,index=0)\n",
    "\n",
    "train_GEO=pd.DataFrame(train_GEO)\n",
    "test_GEO=pd.DataFrame(test_GEO)\n",
    "train_GEO_label=pd.DataFrame(train_GEO_label)\n",
    "test_GEO_label=pd.DataFrame(test_GEO_label)\n",
    "train_GEO.to_csv(\"./GEO_dataset/train_GEO.csv\",header=None,index=0)\n",
    "test_GEO.to_csv(\"./GEO_dataset/test_GEO.csv\",header=None,index=0)\n",
    "train_GEO_label.to_csv(\"./GEO_dataset/train_GEO_label.csv\",header=None,index=0)\n",
    "test_GEO_label.to_csv(\"./GEO_dataset/test_GEO_label.csv\",header=None,index=0)"
   ]
  }
 ],
 "metadata": {
  "kernelspec": {
   "display_name": "Python 3",
   "language": "python",
   "name": "python3"
  },
  "language_info": {
   "codemirror_mode": {
    "name": "ipython",
    "version": 3
   },
   "file_extension": ".py",
   "mimetype": "text/x-python",
   "name": "python",
   "nbconvert_exporter": "python",
   "pygments_lexer": "ipython3",
   "version": "3.6.8"
  }
 },
 "nbformat": 4,
 "nbformat_minor": 4
}
