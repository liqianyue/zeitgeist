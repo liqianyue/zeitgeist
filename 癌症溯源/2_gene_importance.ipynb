{
 "cells": [
  {
   "cell_type": "code",
   "execution_count": 2,
   "metadata": {
    "ExecuteTime": {
     "end_time": "2021-10-26T13:35:27.894480Z",
     "start_time": "2021-10-26T13:35:24.747074Z"
    },
    "code_folding": [
     0
    ]
   },
   "outputs": [],
   "source": [
    "#导入\n",
    "import numpy as np\n",
    "import pandas as pd\n",
    "from sklearn.mixture import GaussianMixture\n",
    "from sklearn.cluster import KMeans\n",
    "from sklearn.datasets import make_blobs\n",
    "from sklearn.metrics import confusion_matrix,accuracy_score\n",
    "from sklearn.model_selection import train_test_split\n",
    "from imblearn.over_sampling import SMOTE\n",
    "from collections import Counter\n",
    "from sklearn.preprocessing import StandardScaler\n",
    "from sklearn.manifold import TSNE\n",
    "from sklearn.decomposition import PCA,LatentDirichletAllocation\n",
    "from sklearn.decomposition import TruncatedSVD\n",
    "import umap\n",
    "import  xgboost\n",
    "from xgboost import XGBClassifier\n",
    "from sklearn.neighbors import KNeighborsClassifier\n",
    "from sklearn.decomposition import PCA\n",
    "from sklearn.preprocessing import StandardScaler\n",
    "import matplotlib.pyplot as plt\n",
    "from sklearn.manifold import TSNE\n",
    "from sklearn.svm import OneClassSVM\n",
    "import warnings\n",
    "from sklearn.svm import SVC\n",
    "import random\n",
    "import math\n",
    "import pickle\n",
    "warnings.filterwarnings(\"ignore\")"
   ]
  },
  {
   "cell_type": "code",
   "execution_count": null,
   "metadata": {
    "ExecuteTime": {
     "end_time": "2021-10-08T12:53:13.659086Z",
     "start_time": "2021-10-08T12:38:56.661189Z"
    }
   },
   "outputs": [],
   "source": [
    "#训练集数据读取\n",
    "train_TCGA=pd.read_csv(\"./TCGA_dataset/train_TCGA.csv\",index_col=0)\n",
    "train_TCGA_label=pd.read_csv(\"./TCGA_dataset/train_TCGA_label.csv\",header=None)\n",
    "GEO_data=pd.read_csv(\"./GEO_dataset/train_GEO.csv\",index_col=0)\n",
    "GEO_label=pd.read_csv(\"./GEO_dataset/train_GEO_label.csv\",header=None)\n",
    "\n",
    "#基因名读取\n",
    "TCGA_gene_name=pd.read_csv('./TCGA_dataset/TCGA_gene_name.csv',header=None)\n",
    "GEO_gene_name=pd.read_csv('./GEO_dataset/GEO_gene_name.csv',header=None)"
   ]
  },
  {
   "cell_type": "code",
   "execution_count": null,
   "metadata": {},
   "outputs": [],
   "source": [
    "smote=SMOTE(k_neighbors=7)\n",
    "X_train,y_train=smote.fit_resample(train_TCGA,train_TCGA_label)\n",
    "\n",
    "std=StandardScaler()\n",
    "X_train=std.fit_transform(X_train)\n",
    "\n",
    "#模型训练\n",
    "\n",
    "#TCGA clf_xg模型第二次运行，请直接执行参数读取，减少运行时间\n",
    "with open(\"./model_file//TCGA_clf_xg.pickle\",'r') as f:\n",
    "    clf_xg=pickle.load(f)\n",
    "\n",
    "clf_xg=XGBClassifier(max_depth=15,learning_rate=0.4,booster='gbtree')\n",
    "clf_xg.fit(X_train,y_train)"
   ]
  },
  {
   "cell_type": "code",
   "execution_count": null,
   "metadata": {
    "ExecuteTime": {
     "end_time": "2021-10-08T12:53:15.185989Z",
     "start_time": "2021-10-08T12:53:13.663909Z"
    }
   },
   "outputs": [],
   "source": [
    "#输出基因的重要性程度\n",
    "#固定的基因顺序，模型为全基因xgboost模型\n",
    "xg_impo=np.argsort(clf_xg.feature_importances_)\n",
    "xg_impo=xg_impo[::-1]"
   ]
  },
  {
   "cell_type": "code",
   "execution_count": 13,
   "metadata": {
    "ExecuteTime": {
     "end_time": "2021-10-09T00:53:29.244581Z",
     "start_time": "2021-10-09T00:53:29.227291Z"
    }
   },
   "outputs": [],
   "source": [
    "TCGA_gene_name_import=[[],[]]\n",
    "gene_name=list(TCGA_gene_name.loc[:,0].values)\n",
    "gene_impor=clf_xg.feature_importances_\n",
    "for i in range(len(xg_impo)):\n",
    "    TCGA_gene_name_import[0].append(gene_name[xg_impo[i]])\n",
    "    TCGA_gene_name_import[1].append(gene_impor[xg_impo[i]])\n",
    "TCGA_gene_name_import=np.array(TCGA_gene_name_import)\n",
    "TCGA_gene_name_import=pd.DataFrame(TCGA_gene_name_import.T)\n",
    "TCGA_gene_name_import.to_csv(\"./TCGA_dataset/TGCA_gene_importance.csv\",\n",
    "                             header=['gene_name','importance'],index=0)"
   ]
  },
  {
   "cell_type": "code",
   "execution_count": 14,
   "metadata": {
    "ExecuteTime": {
     "end_time": "2021-10-09T00:54:40.183112Z",
     "start_time": "2021-10-09T00:54:39.843199Z"
    }
   },
   "outputs": [],
   "source": [
    "#模型参数写入\n",
    "import pickle\n",
    "with open(\"./model_file//TCGA_clf_xg.pickle\",'wb') as f:\n",
    "    pickle.dump(clf_xg,f)"
   ]
  },
  {
   "cell_type": "code",
   "execution_count": 1,
   "metadata": {
    "ExecuteTime": {
     "end_time": "2021-10-26T13:32:16.064989Z",
     "start_time": "2021-10-26T13:32:16.061050Z"
    }
   },
   "outputs": [],
   "source": [
    "###GEO相同操作执行一遍"
   ]
  },
  {
   "cell_type": "code",
   "execution_count": null,
   "metadata": {},
   "outputs": [],
   "source": [
    "smote=SMOTE(k_neighbors=7)\n",
    "X_train,y_train=smote.fit_resample(train_GEO,train_GEO_label)\n",
    "\n",
    "std=StandardScaler()\n",
    "X_train=std.fit_transform(X_train)\n",
    "\n",
    "#模型训练\n",
    "\n",
    "with open(\"./model_file/GEO_clf_xg.pickle\",'r') as f:\n",
    "    clf_xg=pickle.load(f)\n",
    "\n",
    "clf_xg=XGBClassifier(max_depth=15,learning_rate=0.4,booster='gbtree')\n",
    "clf_xg.fit(X_train,y_train)"
   ]
  },
  {
   "cell_type": "code",
   "execution_count": null,
   "metadata": {},
   "outputs": [],
   "source": [
    "#输出基因的重要性程度\n",
    "#固定的基因顺序，模型为全基因xgboost模型\n",
    "xg_impo=np.argsort(clf_xg.feature_importances_)\n",
    "xg_impo=xg_impo[::-1]"
   ]
  },
  {
   "cell_type": "code",
   "execution_count": null,
   "metadata": {},
   "outputs": [],
   "source": [
    "GEO_gene_name_import=[[],[]]\n",
    "gene_name=list(GEO_gene_name.loc[:,0].values)\n",
    "gene_impor=clf_xg.feature_importances_\n",
    "for i in range(len(xg_impo)):\n",
    "    GEO_gene_name_import[0].append(gene_name[xg_impo[i]])\n",
    "    GEO_gene_name_import[1].append(gene_impor[xg_impo[i]])\n",
    "GEO_gene_name_import=np.array(GEO_gene_name_import)\n",
    "GEO_gene_name_import=pd.DataFrame(GEO_gene_name_import.T)\n",
    "GEO_gene_name_import.to_csv(\"./GEO_dataset/GEO_gene_importance.csv\",\n",
    "                             header=['gene_name','importance'],index=0)"
   ]
  },
  {
   "cell_type": "code",
   "execution_count": null,
   "metadata": {},
   "outputs": [],
   "source": [
    "#模型参数写入\n",
    "#TCGA模型参数存储\n",
    "import pickle\n",
    "with open(\"./model_file/GEO_clf_xg.pickle\",'wb') as f:\n",
    "    pickle.dump(clf_xg,f)"
   ]
  }
 ],
 "metadata": {
  "kernelspec": {
   "display_name": "Python 3",
   "language": "python",
   "name": "python3"
  },
  "language_info": {
   "codemirror_mode": {
    "name": "ipython",
    "version": 3
   },
   "file_extension": ".py",
   "mimetype": "text/x-python",
   "name": "python",
   "nbconvert_exporter": "python",
   "pygments_lexer": "ipython3",
   "version": "3.6.8"
  }
 },
 "nbformat": 4,
 "nbformat_minor": 4
}
